{
 "cells": [
  {
   "cell_type": "markdown",
   "metadata": {},
   "source": [
    "## Disease Outbreak Prediction \n",
    "* Building a Machine Learning model based on various parameters such as weather features. <br>\n",
    "* Feature engineering implementation is the heart of this model.\n",
    "* Dataset\n",
    "    * Kaggle: [Contagious disease outbreak prediction](https://www.kaggle.com/pitt/contagious-diseases)<br>\n",
    "    * Historic Data extracted for the past 60 years extracted from [NOAA](https://www.ncdc.noaa.gov/cag/time-series/us)<br>\n",
    "* Machine Learning implementation based on multiple classifier algorithm implementations.\n",
    "* References used:\n",
    "    * [Rowan Chakoumakos - Disease severity outbreak prediction](https://web.stanford.edu/group/journal/cgi-bin/wordpress/wp-content/uploads/2012/09/Chakoumakos_Eng_2010.pdf)<br>\n",
    "    "
   ]
  },
  {
   "cell_type": "code",
   "execution_count": 29,
   "metadata": {
    "collapsed": true
   },
   "outputs": [],
   "source": [
    "# load pre-requisite dependencies\n",
    "import warnings\n",
    "warnings.filterwarnings(\"ignore\") \n",
    "import pandas as pd\n",
    "import calendar\n",
    "import numpy as np"
   ]
  },
  {
   "cell_type": "code",
   "execution_count": 4,
   "metadata": {
    "collapsed": true
   },
   "outputs": [],
   "source": [
    "# function to extract month and year from the dataset\n",
    "\n",
    "def week2month(hep):\n",
    "    hep['LastDayWeek'] = pd.to_datetime((hep['week']-1).astype(str) + \"6\", format=\"%Y%U%w\")\n",
    "    hep['MonthMax'] = pd.DatetimeIndex(hep['LastDayWeek']).month\n",
    "    hep['Year'] = pd.DatetimeIndex(hep['LastDayWeek']).year\n",
    "    hep['MonthName'] = [calendar.month_name[i] for i in hep.MonthMax]\n",
    "    return hep"
   ]
  },
  {
   "cell_type": "code",
   "execution_count": 5,
   "metadata": {
    "collapsed": true
   },
   "outputs": [],
   "source": [
    "# function to load the dataset\n",
    "\n",
    "def get_input_transform(file_):\n",
    "    return week2month(pd.read_csv(file_))"
   ]
  },
  {
   "cell_type": "code",
   "execution_count": 7,
   "metadata": {},
   "outputs": [],
   "source": [
    "# load the dataset from Kaggle\n",
    "hep = get_input_transform('hepatitis.csv')\n",
    "mea = get_input_transform('measles.csv')\n",
    "mum = get_input_transform('mumps.csv')\n",
    "per = get_input_transform('pertussis.csv')\n",
    "pol = get_input_transform('polio.csv')\n",
    "rub = get_input_transform('rubella.csv')\n",
    "sma = get_input_transform('smallpox.csv')"
   ]
  },
  {
   "cell_type": "code",
   "execution_count": 8,
   "metadata": {
    "scrolled": true
   },
   "outputs": [
    {
     "data": {
      "text/html": [
       "<div>\n",
       "<style>\n",
       "    .dataframe thead tr:only-child th {\n",
       "        text-align: right;\n",
       "    }\n",
       "\n",
       "    .dataframe thead th {\n",
       "        text-align: left;\n",
       "    }\n",
       "\n",
       "    .dataframe tbody tr th {\n",
       "        vertical-align: top;\n",
       "    }\n",
       "</style>\n",
       "<table border=\"1\" class=\"dataframe\">\n",
       "  <thead>\n",
       "    <tr style=\"text-align: right;\">\n",
       "      <th></th>\n",
       "      <th>week</th>\n",
       "      <th>state</th>\n",
       "      <th>state_name</th>\n",
       "      <th>disease</th>\n",
       "      <th>cases</th>\n",
       "      <th>incidence_per_capita</th>\n",
       "      <th>LastDayWeek</th>\n",
       "      <th>MonthMax</th>\n",
       "      <th>Year</th>\n",
       "      <th>MonthName</th>\n",
       "    </tr>\n",
       "  </thead>\n",
       "  <tbody>\n",
       "    <tr>\n",
       "      <th>0</th>\n",
       "      <td>196601</td>\n",
       "      <td>AL</td>\n",
       "      <td>ALABAMA</td>\n",
       "      <td>HEPATITIS A</td>\n",
       "      <td>5</td>\n",
       "      <td>0.14</td>\n",
       "      <td>1966-01-01</td>\n",
       "      <td>1</td>\n",
       "      <td>1966</td>\n",
       "      <td>January</td>\n",
       "    </tr>\n",
       "    <tr>\n",
       "      <th>1</th>\n",
       "      <td>196601</td>\n",
       "      <td>AR</td>\n",
       "      <td>ARKANSAS</td>\n",
       "      <td>HEPATITIS A</td>\n",
       "      <td>11</td>\n",
       "      <td>0.58</td>\n",
       "      <td>1966-01-01</td>\n",
       "      <td>1</td>\n",
       "      <td>1966</td>\n",
       "      <td>January</td>\n",
       "    </tr>\n",
       "    <tr>\n",
       "      <th>2</th>\n",
       "      <td>196601</td>\n",
       "      <td>AZ</td>\n",
       "      <td>ARIZONA</td>\n",
       "      <td>HEPATITIS A</td>\n",
       "      <td>6</td>\n",
       "      <td>0.37</td>\n",
       "      <td>1966-01-01</td>\n",
       "      <td>1</td>\n",
       "      <td>1966</td>\n",
       "      <td>January</td>\n",
       "    </tr>\n",
       "    <tr>\n",
       "      <th>3</th>\n",
       "      <td>196601</td>\n",
       "      <td>CA</td>\n",
       "      <td>CALIFORNIA</td>\n",
       "      <td>HEPATITIS A</td>\n",
       "      <td>89</td>\n",
       "      <td>0.47</td>\n",
       "      <td>1966-01-01</td>\n",
       "      <td>1</td>\n",
       "      <td>1966</td>\n",
       "      <td>January</td>\n",
       "    </tr>\n",
       "    <tr>\n",
       "      <th>4</th>\n",
       "      <td>196601</td>\n",
       "      <td>CO</td>\n",
       "      <td>COLORADO</td>\n",
       "      <td>HEPATITIS A</td>\n",
       "      <td>1</td>\n",
       "      <td>0.05</td>\n",
       "      <td>1966-01-01</td>\n",
       "      <td>1</td>\n",
       "      <td>1966</td>\n",
       "      <td>January</td>\n",
       "    </tr>\n",
       "  </tbody>\n",
       "</table>\n",
       "</div>"
      ],
      "text/plain": [
       "     week state  state_name      disease cases  incidence_per_capita  \\\n",
       "0  196601    AL     ALABAMA  HEPATITIS A     5                  0.14   \n",
       "1  196601    AR    ARKANSAS  HEPATITIS A    11                  0.58   \n",
       "2  196601    AZ     ARIZONA  HEPATITIS A     6                  0.37   \n",
       "3  196601    CA  CALIFORNIA  HEPATITIS A    89                  0.47   \n",
       "4  196601    CO    COLORADO  HEPATITIS A     1                  0.05   \n",
       "\n",
       "  LastDayWeek  MonthMax  Year MonthName  \n",
       "0  1966-01-01         1  1966   January  \n",
       "1  1966-01-01         1  1966   January  \n",
       "2  1966-01-01         1  1966   January  \n",
       "3  1966-01-01         1  1966   January  \n",
       "4  1966-01-01         1  1966   January  "
      ]
     },
     "execution_count": 8,
     "metadata": {},
     "output_type": "execute_result"
    }
   ],
   "source": [
    "# for our exploratory purpose we examine data for 1960 through to 2011 for US states\n",
    "# combining all the disease datasets is shown below\n",
    "\n",
    "train_data = hep\n",
    "for i in [mea,mum,per,pol,rub,sma]:\n",
    "    train_data = train_data.append(i)\n",
    "train_data = train_data.loc[(train_data['Year'] >= 1960) & (train_data['Year'] <=2011)]\n",
    "\n",
    "# examine the dataset \n",
    "train_data.head()"
   ]
  },
  {
   "cell_type": "code",
   "execution_count": 9,
   "metadata": {
    "collapsed": true
   },
   "outputs": [],
   "source": [
    "# some data discrepancies must be resolved (issues like \\\\N )\n",
    "train_data_bad = train_data[train_data.cases==train_data.cases.max()]\n",
    "ind = list(train_data_bad.index)\n",
    "train_data = train_data.drop(train_data.index[ind])"
   ]
  },
  {
   "cell_type": "code",
   "execution_count": 10,
   "metadata": {
    "collapsed": true
   },
   "outputs": [],
   "source": [
    "# will be using visulisation.csv for our visualization purposes later\n",
    "\n",
    "train_data.to_csv('for_visulisation.csv')"
   ]
  },
  {
   "cell_type": "code",
   "execution_count": 12,
   "metadata": {},
   "outputs": [],
   "source": [
    "# cases attribute must be in integer form but given in str format (Numerical data of tmost importance!)\n",
    "\n",
    "train_data.cases = train_data.cases.astype(int)"
   ]
  },
  {
   "cell_type": "code",
   "execution_count": 14,
   "metadata": {},
   "outputs": [
    {
     "data": {
      "text/html": [
       "<div>\n",
       "<style>\n",
       "    .dataframe thead tr:only-child th {\n",
       "        text-align: right;\n",
       "    }\n",
       "\n",
       "    .dataframe thead th {\n",
       "        text-align: left;\n",
       "    }\n",
       "\n",
       "    .dataframe tbody tr th {\n",
       "        vertical-align: top;\n",
       "    }\n",
       "</style>\n",
       "<table border=\"1\" class=\"dataframe\">\n",
       "  <thead>\n",
       "    <tr style=\"text-align: right;\">\n",
       "      <th></th>\n",
       "      <th>week</th>\n",
       "      <th>cases</th>\n",
       "      <th>incidence_per_capita</th>\n",
       "      <th>MonthMax</th>\n",
       "      <th>Year</th>\n",
       "    </tr>\n",
       "  </thead>\n",
       "  <tbody>\n",
       "    <tr>\n",
       "      <th>count</th>\n",
       "      <td>361935.000000</td>\n",
       "      <td>361935.000000</td>\n",
       "      <td>361935.000000</td>\n",
       "      <td>361935.000000</td>\n",
       "      <td>361935.000000</td>\n",
       "    </tr>\n",
       "    <tr>\n",
       "      <th>mean</th>\n",
       "      <td>198461.036059</td>\n",
       "      <td>15.238026</td>\n",
       "      <td>0.429124</td>\n",
       "      <td>6.933999</td>\n",
       "      <td>1984.325221</td>\n",
       "    </tr>\n",
       "    <tr>\n",
       "      <th>std</th>\n",
       "      <td>1330.980200</td>\n",
       "      <td>84.493216</td>\n",
       "      <td>2.233045</td>\n",
       "      <td>3.279924</td>\n",
       "      <td>13.298776</td>\n",
       "    </tr>\n",
       "    <tr>\n",
       "      <th>min</th>\n",
       "      <td>196001.000000</td>\n",
       "      <td>0.000000</td>\n",
       "      <td>0.000000</td>\n",
       "      <td>1.000000</td>\n",
       "      <td>1960.000000</td>\n",
       "    </tr>\n",
       "    <tr>\n",
       "      <th>25%</th>\n",
       "      <td>197349.000000</td>\n",
       "      <td>0.000000</td>\n",
       "      <td>0.000000</td>\n",
       "      <td>4.000000</td>\n",
       "      <td>1973.000000</td>\n",
       "    </tr>\n",
       "    <tr>\n",
       "      <th>50%</th>\n",
       "      <td>198342.000000</td>\n",
       "      <td>1.000000</td>\n",
       "      <td>0.030000</td>\n",
       "      <td>7.000000</td>\n",
       "      <td>1983.000000</td>\n",
       "    </tr>\n",
       "    <tr>\n",
       "      <th>75%</th>\n",
       "      <td>199524.000000</td>\n",
       "      <td>7.000000</td>\n",
       "      <td>0.190000</td>\n",
       "      <td>10.000000</td>\n",
       "      <td>1995.000000</td>\n",
       "    </tr>\n",
       "    <tr>\n",
       "      <th>max</th>\n",
       "      <td>201152.000000</td>\n",
       "      <td>7101.000000</td>\n",
       "      <td>209.160000</td>\n",
       "      <td>12.000000</td>\n",
       "      <td>2011.000000</td>\n",
       "    </tr>\n",
       "  </tbody>\n",
       "</table>\n",
       "</div>"
      ],
      "text/plain": [
       "                week          cases  incidence_per_capita       MonthMax  \\\n",
       "count  361935.000000  361935.000000         361935.000000  361935.000000   \n",
       "mean   198461.036059      15.238026              0.429124       6.933999   \n",
       "std      1330.980200      84.493216              2.233045       3.279924   \n",
       "min    196001.000000       0.000000              0.000000       1.000000   \n",
       "25%    197349.000000       0.000000              0.000000       4.000000   \n",
       "50%    198342.000000       1.000000              0.030000       7.000000   \n",
       "75%    199524.000000       7.000000              0.190000      10.000000   \n",
       "max    201152.000000    7101.000000            209.160000      12.000000   \n",
       "\n",
       "                Year  \n",
       "count  361935.000000  \n",
       "mean     1984.325221  \n",
       "std        13.298776  \n",
       "min      1960.000000  \n",
       "25%      1973.000000  \n",
       "50%      1983.000000  \n",
       "75%      1995.000000  \n",
       "max      2011.000000  "
      ]
     },
     "execution_count": 14,
     "metadata": {},
     "output_type": "execute_result"
    }
   ],
   "source": [
    "# examining the characteristics of the dataset\n",
    "train_data.describe()"
   ]
  },
  {
   "cell_type": "code",
   "execution_count": 15,
   "metadata": {
    "collapsed": true
   },
   "outputs": [],
   "source": [
    "# converting non-numerical data to lowercase (to keep consistencies over all future datasets included)\n",
    "\n",
    "train_data.state_name = [i.lower() for i in train_data.state_name]"
   ]
  },
  {
   "cell_type": "markdown",
   "metadata": {},
   "source": [
    "## Feature additions\n",
    "* Adding features like\n",
    "    * Average temperature\n",
    "    * Average precipitation\n",
    "* These features have certain effect on the contagious disease spread "
   ]
  },
  {
   "cell_type": "markdown",
   "metadata": {},
   "source": [
    "### Average temperature"
   ]
  },
  {
   "cell_type": "code",
   "execution_count": 17,
   "metadata": {},
   "outputs": [],
   "source": [
    "# load the average temperature dataset (source: NOAA)\n",
    "'''\n",
    "    components of dataset:\n",
    "        Date   : yyyymm ,where y-year and m-month\n",
    "        Value  : average temperature value\n",
    "        Anomaly: deviation from mean temperature \n",
    "        state  : state for the corresponing data tuple (US states used for the data)\n",
    "'''\n",
    "\n",
    "join_tavg = pd.read_csv('tavg.csv', index_col= 0)\n",
    "\n",
    "# make sure non-nmerical data in lowercase format\n",
    "join_tavg.state = [i.lower() for i in join_tavg.state]"
   ]
  },
  {
   "cell_type": "code",
   "execution_count": 18,
   "metadata": {
    "collapsed": true
   },
   "outputs": [],
   "source": [
    "# convert the column names for tavg dataset to match column names to our primary dataset\n",
    "join_tavg.columns = ['week', 't_avg', 'tavg_anomaly', 'state_name']"
   ]
  },
  {
   "cell_type": "code",
   "execution_count": 19,
   "metadata": {},
   "outputs": [
    {
     "name": "stdout",
     "output_type": "stream",
     "text": [
      "(30576, 4)\n"
     ]
    },
    {
     "data": {
      "text/html": [
       "<div>\n",
       "<style>\n",
       "    .dataframe thead tr:only-child th {\n",
       "        text-align: right;\n",
       "    }\n",
       "\n",
       "    .dataframe thead th {\n",
       "        text-align: left;\n",
       "    }\n",
       "\n",
       "    .dataframe tbody tr th {\n",
       "        vertical-align: top;\n",
       "    }\n",
       "</style>\n",
       "<table border=\"1\" class=\"dataframe\">\n",
       "  <thead>\n",
       "    <tr style=\"text-align: right;\">\n",
       "      <th></th>\n",
       "      <th>week</th>\n",
       "      <th>t_avg</th>\n",
       "      <th>tavg_anomaly</th>\n",
       "      <th>state_name</th>\n",
       "    </tr>\n",
       "  </thead>\n",
       "  <tbody>\n",
       "    <tr>\n",
       "      <th>0</th>\n",
       "      <td>196001</td>\n",
       "      <td>44.5</td>\n",
       "      <td>-0.4</td>\n",
       "      <td>alabama</td>\n",
       "    </tr>\n",
       "    <tr>\n",
       "      <th>1</th>\n",
       "      <td>196101</td>\n",
       "      <td>39.2</td>\n",
       "      <td>-5.7</td>\n",
       "      <td>alabama</td>\n",
       "    </tr>\n",
       "    <tr>\n",
       "      <th>2</th>\n",
       "      <td>196201</td>\n",
       "      <td>42.6</td>\n",
       "      <td>-2.3</td>\n",
       "      <td>alabama</td>\n",
       "    </tr>\n",
       "    <tr>\n",
       "      <th>3</th>\n",
       "      <td>196301</td>\n",
       "      <td>39.1</td>\n",
       "      <td>-5.8</td>\n",
       "      <td>alabama</td>\n",
       "    </tr>\n",
       "    <tr>\n",
       "      <th>4</th>\n",
       "      <td>196401</td>\n",
       "      <td>42.4</td>\n",
       "      <td>-2.5</td>\n",
       "      <td>alabama</td>\n",
       "    </tr>\n",
       "  </tbody>\n",
       "</table>\n",
       "</div>"
      ],
      "text/plain": [
       "     week  t_avg  tavg_anomaly state_name\n",
       "0  196001   44.5          -0.4    alabama\n",
       "1  196101   39.2          -5.7    alabama\n",
       "2  196201   42.6          -2.3    alabama\n",
       "3  196301   39.1          -5.8    alabama\n",
       "4  196401   42.4          -2.5    alabama"
      ]
     },
     "execution_count": 19,
     "metadata": {},
     "output_type": "execute_result"
    }
   ],
   "source": [
    "# examine the dataset\n",
    "\n",
    "print join_tavg.shape\n",
    "join_tavg.head()"
   ]
  },
  {
   "cell_type": "code",
   "execution_count": 21,
   "metadata": {},
   "outputs": [],
   "source": [
    "# join the avg temperature dataset with our priary dataset over common columns\n",
    "\n",
    "result = pd.merge(train_data, join_tavg, on=['week', 'state_name'])"
   ]
  },
  {
   "cell_type": "code",
   "execution_count": 22,
   "metadata": {
    "scrolled": true
   },
   "outputs": [
    {
     "name": "stdout",
     "output_type": "stream",
     "text": [
      "(60610, 12)\n"
     ]
    },
    {
     "data": {
      "text/html": [
       "<div>\n",
       "<style>\n",
       "    .dataframe thead tr:only-child th {\n",
       "        text-align: right;\n",
       "    }\n",
       "\n",
       "    .dataframe thead th {\n",
       "        text-align: left;\n",
       "    }\n",
       "\n",
       "    .dataframe tbody tr th {\n",
       "        vertical-align: top;\n",
       "    }\n",
       "</style>\n",
       "<table border=\"1\" class=\"dataframe\">\n",
       "  <thead>\n",
       "    <tr style=\"text-align: right;\">\n",
       "      <th></th>\n",
       "      <th>week</th>\n",
       "      <th>state</th>\n",
       "      <th>state_name</th>\n",
       "      <th>disease</th>\n",
       "      <th>cases</th>\n",
       "      <th>incidence_per_capita</th>\n",
       "      <th>LastDayWeek</th>\n",
       "      <th>MonthMax</th>\n",
       "      <th>Year</th>\n",
       "      <th>MonthName</th>\n",
       "      <th>t_avg</th>\n",
       "      <th>tavg_anomaly</th>\n",
       "    </tr>\n",
       "  </thead>\n",
       "  <tbody>\n",
       "    <tr>\n",
       "      <th>0</th>\n",
       "      <td>196601</td>\n",
       "      <td>AL</td>\n",
       "      <td>alabama</td>\n",
       "      <td>HEPATITIS A</td>\n",
       "      <td>5</td>\n",
       "      <td>0.14</td>\n",
       "      <td>1966-01-01</td>\n",
       "      <td>1</td>\n",
       "      <td>1966</td>\n",
       "      <td>January</td>\n",
       "      <td>40.0</td>\n",
       "      <td>-4.9</td>\n",
       "    </tr>\n",
       "    <tr>\n",
       "      <th>1</th>\n",
       "      <td>196601</td>\n",
       "      <td>AL</td>\n",
       "      <td>alabama</td>\n",
       "      <td>RUBELLA</td>\n",
       "      <td>7</td>\n",
       "      <td>0.20</td>\n",
       "      <td>1966-01-01</td>\n",
       "      <td>1</td>\n",
       "      <td>1966</td>\n",
       "      <td>January</td>\n",
       "      <td>40.0</td>\n",
       "      <td>-4.9</td>\n",
       "    </tr>\n",
       "    <tr>\n",
       "      <th>2</th>\n",
       "      <td>196601</td>\n",
       "      <td>AR</td>\n",
       "      <td>arkansas</td>\n",
       "      <td>HEPATITIS A</td>\n",
       "      <td>11</td>\n",
       "      <td>0.58</td>\n",
       "      <td>1966-01-01</td>\n",
       "      <td>1</td>\n",
       "      <td>1966</td>\n",
       "      <td>January</td>\n",
       "      <td>34.7</td>\n",
       "      <td>-4.3</td>\n",
       "    </tr>\n",
       "    <tr>\n",
       "      <th>3</th>\n",
       "      <td>196601</td>\n",
       "      <td>AR</td>\n",
       "      <td>arkansas</td>\n",
       "      <td>MEASLES</td>\n",
       "      <td>2</td>\n",
       "      <td>0.11</td>\n",
       "      <td>1966-01-01</td>\n",
       "      <td>1</td>\n",
       "      <td>1966</td>\n",
       "      <td>January</td>\n",
       "      <td>34.7</td>\n",
       "      <td>-4.3</td>\n",
       "    </tr>\n",
       "    <tr>\n",
       "      <th>4</th>\n",
       "      <td>196601</td>\n",
       "      <td>AZ</td>\n",
       "      <td>arizona</td>\n",
       "      <td>HEPATITIS A</td>\n",
       "      <td>6</td>\n",
       "      <td>0.37</td>\n",
       "      <td>1966-01-01</td>\n",
       "      <td>1</td>\n",
       "      <td>1966</td>\n",
       "      <td>January</td>\n",
       "      <td>37.8</td>\n",
       "      <td>-2.9</td>\n",
       "    </tr>\n",
       "  </tbody>\n",
       "</table>\n",
       "</div>"
      ],
      "text/plain": [
       "     week state state_name      disease  cases  incidence_per_capita  \\\n",
       "0  196601    AL    alabama  HEPATITIS A      5                  0.14   \n",
       "1  196601    AL    alabama      RUBELLA      7                  0.20   \n",
       "2  196601    AR   arkansas  HEPATITIS A     11                  0.58   \n",
       "3  196601    AR   arkansas      MEASLES      2                  0.11   \n",
       "4  196601    AZ    arizona  HEPATITIS A      6                  0.37   \n",
       "\n",
       "  LastDayWeek  MonthMax  Year MonthName  t_avg  tavg_anomaly  \n",
       "0  1966-01-01         1  1966   January   40.0          -4.9  \n",
       "1  1966-01-01         1  1966   January   40.0          -4.9  \n",
       "2  1966-01-01         1  1966   January   34.7          -4.3  \n",
       "3  1966-01-01         1  1966   January   34.7          -4.3  \n",
       "4  1966-01-01         1  1966   January   37.8          -2.9  "
      ]
     },
     "execution_count": 22,
     "metadata": {},
     "output_type": "execute_result"
    }
   ],
   "source": [
    "#examining the primary dataset\n",
    "\n",
    "print result.shape\n",
    "train_data = result # make this your current working dataframe \n",
    "result.head()"
   ]
  },
  {
   "cell_type": "code",
   "execution_count": 37,
   "metadata": {
    "scrolled": true
   },
   "outputs": [
    {
     "data": {
      "text/html": [
       "<div>\n",
       "<style>\n",
       "    .dataframe thead tr:only-child th {\n",
       "        text-align: right;\n",
       "    }\n",
       "\n",
       "    .dataframe thead th {\n",
       "        text-align: left;\n",
       "    }\n",
       "\n",
       "    .dataframe tbody tr th {\n",
       "        vertical-align: top;\n",
       "    }\n",
       "</style>\n",
       "<table border=\"1\" class=\"dataframe\">\n",
       "  <thead>\n",
       "    <tr style=\"text-align: right;\">\n",
       "      <th></th>\n",
       "      <th>week</th>\n",
       "      <th>state</th>\n",
       "      <th>state_name</th>\n",
       "      <th>disease</th>\n",
       "      <th>cases</th>\n",
       "      <th>incidence_per_capita</th>\n",
       "      <th>LastDayWeek</th>\n",
       "      <th>MonthMax</th>\n",
       "      <th>Year</th>\n",
       "      <th>MonthName</th>\n",
       "      <th>t_avg</th>\n",
       "      <th>tavg_anomaly</th>\n",
       "    </tr>\n",
       "  </thead>\n",
       "  <tbody>\n",
       "    <tr>\n",
       "      <th>0</th>\n",
       "      <td>196601</td>\n",
       "      <td>AL</td>\n",
       "      <td>alabama</td>\n",
       "      <td>HEPATITIS A</td>\n",
       "      <td>5</td>\n",
       "      <td>0.14</td>\n",
       "      <td>1966-01-01</td>\n",
       "      <td>1</td>\n",
       "      <td>1966</td>\n",
       "      <td>January</td>\n",
       "      <td>0.513353</td>\n",
       "      <td>0.395639</td>\n",
       "    </tr>\n",
       "    <tr>\n",
       "      <th>1</th>\n",
       "      <td>196601</td>\n",
       "      <td>AL</td>\n",
       "      <td>alabama</td>\n",
       "      <td>RUBELLA</td>\n",
       "      <td>7</td>\n",
       "      <td>0.20</td>\n",
       "      <td>1966-01-01</td>\n",
       "      <td>1</td>\n",
       "      <td>1966</td>\n",
       "      <td>January</td>\n",
       "      <td>0.513353</td>\n",
       "      <td>0.395639</td>\n",
       "    </tr>\n",
       "    <tr>\n",
       "      <th>2</th>\n",
       "      <td>196601</td>\n",
       "      <td>AR</td>\n",
       "      <td>arkansas</td>\n",
       "      <td>HEPATITIS A</td>\n",
       "      <td>11</td>\n",
       "      <td>0.58</td>\n",
       "      <td>1966-01-01</td>\n",
       "      <td>1</td>\n",
       "      <td>1966</td>\n",
       "      <td>January</td>\n",
       "      <td>0.460930</td>\n",
       "      <td>0.414330</td>\n",
       "    </tr>\n",
       "    <tr>\n",
       "      <th>3</th>\n",
       "      <td>196601</td>\n",
       "      <td>AR</td>\n",
       "      <td>arkansas</td>\n",
       "      <td>MEASLES</td>\n",
       "      <td>2</td>\n",
       "      <td>0.11</td>\n",
       "      <td>1966-01-01</td>\n",
       "      <td>1</td>\n",
       "      <td>1966</td>\n",
       "      <td>January</td>\n",
       "      <td>0.460930</td>\n",
       "      <td>0.414330</td>\n",
       "    </tr>\n",
       "    <tr>\n",
       "      <th>4</th>\n",
       "      <td>196601</td>\n",
       "      <td>AZ</td>\n",
       "      <td>arizona</td>\n",
       "      <td>HEPATITIS A</td>\n",
       "      <td>6</td>\n",
       "      <td>0.37</td>\n",
       "      <td>1966-01-01</td>\n",
       "      <td>1</td>\n",
       "      <td>1966</td>\n",
       "      <td>January</td>\n",
       "      <td>0.491592</td>\n",
       "      <td>0.457944</td>\n",
       "    </tr>\n",
       "  </tbody>\n",
       "</table>\n",
       "</div>"
      ],
      "text/plain": [
       "     week state state_name      disease  cases  incidence_per_capita  \\\n",
       "0  196601    AL    alabama  HEPATITIS A      5                  0.14   \n",
       "1  196601    AL    alabama      RUBELLA      7                  0.20   \n",
       "2  196601    AR   arkansas  HEPATITIS A     11                  0.58   \n",
       "3  196601    AR   arkansas      MEASLES      2                  0.11   \n",
       "4  196601    AZ    arizona  HEPATITIS A      6                  0.37   \n",
       "\n",
       "  LastDayWeek  MonthMax  Year MonthName     t_avg  tavg_anomaly  \n",
       "0  1966-01-01         1  1966   January  0.513353      0.395639  \n",
       "1  1966-01-01         1  1966   January  0.513353      0.395639  \n",
       "2  1966-01-01         1  1966   January  0.460930      0.414330  \n",
       "3  1966-01-01         1  1966   January  0.460930      0.414330  \n",
       "4  1966-01-01         1  1966   January  0.491592      0.457944  "
      ]
     },
     "execution_count": 37,
     "metadata": {},
     "output_type": "execute_result"
    }
   ],
   "source": [
    "# examining the primary dataset now\n",
    "train_data.head()"
   ]
  },
  {
   "cell_type": "markdown",
   "metadata": {},
   "source": [
    "### Average Precipitation"
   ]
  },
  {
   "cell_type": "code",
   "execution_count": 40,
   "metadata": {},
   "outputs": [],
   "source": [
    "# load the precipitation data (source: NOAA)\n",
    "\n",
    "join_pcp = pd.read_csv('pcp.csv', index_col= 0)\n",
    "\n",
    "join_pcp.state = [i.lower() for i in join_pcp.state] # lowercasing the non-numerical data\n",
    "\n",
    "join_pcp.columns = ['week', 'precipitate', 'pcp_anomaly', 'state_name'] # change colun names for merging purpose"
   ]
  },
  {
   "cell_type": "code",
   "execution_count": 41,
   "metadata": {
    "collapsed": true
   },
   "outputs": [],
   "source": [
    "# joining the precipitation dataset to the primary dataset over common columns\n",
    "\n",
    "result = pd.merge(train_data, join_pcp, on=['week', 'state_name'])"
   ]
  },
  {
   "cell_type": "code",
   "execution_count": 44,
   "metadata": {
    "scrolled": true
   },
   "outputs": [
    {
     "data": {
      "text/html": [
       "<div>\n",
       "<style>\n",
       "    .dataframe thead tr:only-child th {\n",
       "        text-align: right;\n",
       "    }\n",
       "\n",
       "    .dataframe thead th {\n",
       "        text-align: left;\n",
       "    }\n",
       "\n",
       "    .dataframe tbody tr th {\n",
       "        vertical-align: top;\n",
       "    }\n",
       "</style>\n",
       "<table border=\"1\" class=\"dataframe\">\n",
       "  <thead>\n",
       "    <tr style=\"text-align: right;\">\n",
       "      <th></th>\n",
       "      <th>week</th>\n",
       "      <th>state</th>\n",
       "      <th>state_name</th>\n",
       "      <th>disease</th>\n",
       "      <th>cases</th>\n",
       "      <th>incidence_per_capita</th>\n",
       "      <th>LastDayWeek</th>\n",
       "      <th>MonthMax</th>\n",
       "      <th>Year</th>\n",
       "      <th>MonthName</th>\n",
       "      <th>t_avg</th>\n",
       "      <th>tavg_anomaly</th>\n",
       "      <th>precipitate</th>\n",
       "      <th>pcp_anomaly</th>\n",
       "    </tr>\n",
       "  </thead>\n",
       "  <tbody>\n",
       "    <tr>\n",
       "      <th>0</th>\n",
       "      <td>196601</td>\n",
       "      <td>AL</td>\n",
       "      <td>alabama</td>\n",
       "      <td>HEPATITIS A</td>\n",
       "      <td>5</td>\n",
       "      <td>0.14</td>\n",
       "      <td>1966-01-01</td>\n",
       "      <td>1</td>\n",
       "      <td>1966</td>\n",
       "      <td>January</td>\n",
       "      <td>0.513353</td>\n",
       "      <td>0.395639</td>\n",
       "      <td>5.96</td>\n",
       "      <td>0.66</td>\n",
       "    </tr>\n",
       "    <tr>\n",
       "      <th>1</th>\n",
       "      <td>196601</td>\n",
       "      <td>AL</td>\n",
       "      <td>alabama</td>\n",
       "      <td>RUBELLA</td>\n",
       "      <td>7</td>\n",
       "      <td>0.20</td>\n",
       "      <td>1966-01-01</td>\n",
       "      <td>1</td>\n",
       "      <td>1966</td>\n",
       "      <td>January</td>\n",
       "      <td>0.513353</td>\n",
       "      <td>0.395639</td>\n",
       "      <td>5.96</td>\n",
       "      <td>0.66</td>\n",
       "    </tr>\n",
       "    <tr>\n",
       "      <th>2</th>\n",
       "      <td>196601</td>\n",
       "      <td>AR</td>\n",
       "      <td>arkansas</td>\n",
       "      <td>HEPATITIS A</td>\n",
       "      <td>11</td>\n",
       "      <td>0.58</td>\n",
       "      <td>1966-01-01</td>\n",
       "      <td>1</td>\n",
       "      <td>1966</td>\n",
       "      <td>January</td>\n",
       "      <td>0.460930</td>\n",
       "      <td>0.414330</td>\n",
       "      <td>4.30</td>\n",
       "      <td>0.25</td>\n",
       "    </tr>\n",
       "    <tr>\n",
       "      <th>3</th>\n",
       "      <td>196601</td>\n",
       "      <td>AR</td>\n",
       "      <td>arkansas</td>\n",
       "      <td>MEASLES</td>\n",
       "      <td>2</td>\n",
       "      <td>0.11</td>\n",
       "      <td>1966-01-01</td>\n",
       "      <td>1</td>\n",
       "      <td>1966</td>\n",
       "      <td>January</td>\n",
       "      <td>0.460930</td>\n",
       "      <td>0.414330</td>\n",
       "      <td>4.30</td>\n",
       "      <td>0.25</td>\n",
       "    </tr>\n",
       "    <tr>\n",
       "      <th>4</th>\n",
       "      <td>196601</td>\n",
       "      <td>AZ</td>\n",
       "      <td>arizona</td>\n",
       "      <td>HEPATITIS A</td>\n",
       "      <td>6</td>\n",
       "      <td>0.37</td>\n",
       "      <td>1966-01-01</td>\n",
       "      <td>1</td>\n",
       "      <td>1966</td>\n",
       "      <td>January</td>\n",
       "      <td>0.491592</td>\n",
       "      <td>0.457944</td>\n",
       "      <td>0.76</td>\n",
       "      <td>-0.32</td>\n",
       "    </tr>\n",
       "  </tbody>\n",
       "</table>\n",
       "</div>"
      ],
      "text/plain": [
       "     week state state_name      disease  cases  incidence_per_capita  \\\n",
       "0  196601    AL    alabama  HEPATITIS A      5                  0.14   \n",
       "1  196601    AL    alabama      RUBELLA      7                  0.20   \n",
       "2  196601    AR   arkansas  HEPATITIS A     11                  0.58   \n",
       "3  196601    AR   arkansas      MEASLES      2                  0.11   \n",
       "4  196601    AZ    arizona  HEPATITIS A      6                  0.37   \n",
       "\n",
       "  LastDayWeek  MonthMax  Year MonthName     t_avg  tavg_anomaly  precipitate  \\\n",
       "0  1966-01-01         1  1966   January  0.513353      0.395639         5.96   \n",
       "1  1966-01-01         1  1966   January  0.513353      0.395639         5.96   \n",
       "2  1966-01-01         1  1966   January  0.460930      0.414330         4.30   \n",
       "3  1966-01-01         1  1966   January  0.460930      0.414330         4.30   \n",
       "4  1966-01-01         1  1966   January  0.491592      0.457944         0.76   \n",
       "\n",
       "   pcp_anomaly  \n",
       "0         0.66  \n",
       "1         0.66  \n",
       "2         0.25  \n",
       "3         0.25  \n",
       "4        -0.32  "
      ]
     },
     "execution_count": 44,
     "metadata": {},
     "output_type": "execute_result"
    }
   ],
   "source": [
    "# examining the data after addition of the features\n",
    "\n",
    "result.head()"
   ]
  },
  {
   "cell_type": "code",
   "execution_count": 81,
   "metadata": {},
   "outputs": [],
   "source": [
    "## Normalize the statistical data\n",
    "\n",
    "from sklearn.preprocessing import MinMaxScaler as mm\n",
    "\n",
    "scaler = mm()\n",
    "\n",
    "# avg temp deviations\n",
    "scaler.fit(train_data['tavg_anomaly'].reshape(-1,1))\n",
    "train_data['tavg_anomaly'] = scaler.transform(train_data['tavg_anomaly'].reshape(-1,1))\n",
    "\n",
    "# avg temp\n",
    "scaler.fit(train_data['t_avg'].reshape(-1,1))\n",
    "train_data['t_avg'] = scaler.transform(train_data['t_avg'].reshape(-1,1))\n",
    "\n",
    "# precipitation deviations\n",
    "pcp_anomaly = scaler.fit_transform(train_data['pcp_anomaly'].values.reshape(-1,1))\n",
    "train_data['pcp_anomaly'] = pcp_anomaly\n",
    "\n",
    "# precipitation\n",
    "scaler.fit(train_data['precipitate'].reshape(-1,1))\n",
    "train_data['precipitate'] = scaler.transform(train_data['precipitate'].reshape(-1,1))"
   ]
  },
  {
   "cell_type": "code",
   "execution_count": 83,
   "metadata": {},
   "outputs": [
    {
     "data": {
      "text/html": [
       "<div>\n",
       "<style>\n",
       "    .dataframe thead tr:only-child th {\n",
       "        text-align: right;\n",
       "    }\n",
       "\n",
       "    .dataframe thead th {\n",
       "        text-align: left;\n",
       "    }\n",
       "\n",
       "    .dataframe tbody tr th {\n",
       "        vertical-align: top;\n",
       "    }\n",
       "</style>\n",
       "<table border=\"1\" class=\"dataframe\">\n",
       "  <thead>\n",
       "    <tr style=\"text-align: right;\">\n",
       "      <th></th>\n",
       "      <th>week</th>\n",
       "      <th>state</th>\n",
       "      <th>state_name</th>\n",
       "      <th>disease</th>\n",
       "      <th>cases</th>\n",
       "      <th>incidence_per_capita</th>\n",
       "      <th>LastDayWeek</th>\n",
       "      <th>MonthMax</th>\n",
       "      <th>Year</th>\n",
       "      <th>MonthName</th>\n",
       "      <th>t_avg</th>\n",
       "      <th>tavg_anomaly</th>\n",
       "      <th>precipitate</th>\n",
       "      <th>pcp_anomaly</th>\n",
       "    </tr>\n",
       "  </thead>\n",
       "  <tbody>\n",
       "    <tr>\n",
       "      <th>0</th>\n",
       "      <td>196601</td>\n",
       "      <td>AL</td>\n",
       "      <td>alabama</td>\n",
       "      <td>HEPATITIS A</td>\n",
       "      <td>5</td>\n",
       "      <td>0.14</td>\n",
       "      <td>1966-01-01</td>\n",
       "      <td>1</td>\n",
       "      <td>1966</td>\n",
       "      <td>January</td>\n",
       "      <td>0.513353</td>\n",
       "      <td>0.395639</td>\n",
       "      <td>0.374372</td>\n",
       "      <td>0.341324</td>\n",
       "    </tr>\n",
       "    <tr>\n",
       "      <th>1</th>\n",
       "      <td>196601</td>\n",
       "      <td>AL</td>\n",
       "      <td>alabama</td>\n",
       "      <td>RUBELLA</td>\n",
       "      <td>7</td>\n",
       "      <td>0.20</td>\n",
       "      <td>1966-01-01</td>\n",
       "      <td>1</td>\n",
       "      <td>1966</td>\n",
       "      <td>January</td>\n",
       "      <td>0.513353</td>\n",
       "      <td>0.395639</td>\n",
       "      <td>0.374372</td>\n",
       "      <td>0.341324</td>\n",
       "    </tr>\n",
       "    <tr>\n",
       "      <th>2</th>\n",
       "      <td>196601</td>\n",
       "      <td>AR</td>\n",
       "      <td>arkansas</td>\n",
       "      <td>HEPATITIS A</td>\n",
       "      <td>11</td>\n",
       "      <td>0.58</td>\n",
       "      <td>1966-01-01</td>\n",
       "      <td>1</td>\n",
       "      <td>1966</td>\n",
       "      <td>January</td>\n",
       "      <td>0.460930</td>\n",
       "      <td>0.414330</td>\n",
       "      <td>0.270101</td>\n",
       "      <td>0.317922</td>\n",
       "    </tr>\n",
       "    <tr>\n",
       "      <th>3</th>\n",
       "      <td>196601</td>\n",
       "      <td>AR</td>\n",
       "      <td>arkansas</td>\n",
       "      <td>MEASLES</td>\n",
       "      <td>2</td>\n",
       "      <td>0.11</td>\n",
       "      <td>1966-01-01</td>\n",
       "      <td>1</td>\n",
       "      <td>1966</td>\n",
       "      <td>January</td>\n",
       "      <td>0.460930</td>\n",
       "      <td>0.414330</td>\n",
       "      <td>0.270101</td>\n",
       "      <td>0.317922</td>\n",
       "    </tr>\n",
       "    <tr>\n",
       "      <th>4</th>\n",
       "      <td>196601</td>\n",
       "      <td>AZ</td>\n",
       "      <td>arizona</td>\n",
       "      <td>HEPATITIS A</td>\n",
       "      <td>6</td>\n",
       "      <td>0.37</td>\n",
       "      <td>1966-01-01</td>\n",
       "      <td>1</td>\n",
       "      <td>1966</td>\n",
       "      <td>January</td>\n",
       "      <td>0.491592</td>\n",
       "      <td>0.457944</td>\n",
       "      <td>0.047739</td>\n",
       "      <td>0.285388</td>\n",
       "    </tr>\n",
       "  </tbody>\n",
       "</table>\n",
       "</div>"
      ],
      "text/plain": [
       "     week state state_name      disease  cases  incidence_per_capita  \\\n",
       "0  196601    AL    alabama  HEPATITIS A      5                  0.14   \n",
       "1  196601    AL    alabama      RUBELLA      7                  0.20   \n",
       "2  196601    AR   arkansas  HEPATITIS A     11                  0.58   \n",
       "3  196601    AR   arkansas      MEASLES      2                  0.11   \n",
       "4  196601    AZ    arizona  HEPATITIS A      6                  0.37   \n",
       "\n",
       "  LastDayWeek  MonthMax  Year MonthName     t_avg  tavg_anomaly  precipitate  \\\n",
       "0  1966-01-01         1  1966   January  0.513353      0.395639     0.374372   \n",
       "1  1966-01-01         1  1966   January  0.513353      0.395639     0.374372   \n",
       "2  1966-01-01         1  1966   January  0.460930      0.414330     0.270101   \n",
       "3  1966-01-01         1  1966   January  0.460930      0.414330     0.270101   \n",
       "4  1966-01-01         1  1966   January  0.491592      0.457944     0.047739   \n",
       "\n",
       "   pcp_anomaly  \n",
       "0     0.341324  \n",
       "1     0.341324  \n",
       "2     0.317922  \n",
       "3     0.317922  \n",
       "4     0.285388  "
      ]
     },
     "execution_count": 83,
     "metadata": {},
     "output_type": "execute_result"
    }
   ],
   "source": [
    "# examining the main dataset \n",
    "\n",
    "train_data.head()"
   ]
  },
  {
   "cell_type": "code",
   "execution_count": 84,
   "metadata": {
    "collapsed": true
   },
   "outputs": [],
   "source": [
    "# save this primary dataset for future purposes\n",
    "\n",
    "result.to_csv('result.csv',index=False)"
   ]
  },
  {
   "cell_type": "code",
   "execution_count": 85,
   "metadata": {},
   "outputs": [],
   "source": [
    "# save the dataset in current working dataframe\n",
    "train_data = result"
   ]
  },
  {
   "cell_type": "code",
   "execution_count": 25,
   "metadata": {
    "collapsed": true
   },
   "outputs": [],
   "source": [
    "# load this dataset for future purposes\n",
    "'''\n",
    "uncomment the line below when needed,\n",
    "no need to perform above steps once you reach this step\n",
    "\n",
    "'''\n",
    "\n",
    "#train_data = pd.read_csv('result.csv')"
   ]
  },
  {
   "cell_type": "markdown",
   "metadata": {},
   "source": [
    "## Load the dataset"
   ]
  },
  {
   "cell_type": "code",
   "execution_count": 184,
   "metadata": {
    "collapsed": true
   },
   "outputs": [],
   "source": [
    "# load the working dataset for future purposes (no need to do the above steps)\n",
    "\n",
    "train_data = pd.read_csv('result.csv')"
   ]
  },
  {
   "cell_type": "code",
   "execution_count": 185,
   "metadata": {},
   "outputs": [
    {
     "data": {
      "text/html": [
       "<div>\n",
       "<style>\n",
       "    .dataframe thead tr:only-child th {\n",
       "        text-align: right;\n",
       "    }\n",
       "\n",
       "    .dataframe thead th {\n",
       "        text-align: left;\n",
       "    }\n",
       "\n",
       "    .dataframe tbody tr th {\n",
       "        vertical-align: top;\n",
       "    }\n",
       "</style>\n",
       "<table border=\"1\" class=\"dataframe\">\n",
       "  <thead>\n",
       "    <tr style=\"text-align: right;\">\n",
       "      <th></th>\n",
       "      <th>week</th>\n",
       "      <th>state</th>\n",
       "      <th>state_name</th>\n",
       "      <th>disease</th>\n",
       "      <th>cases</th>\n",
       "      <th>incidence_per_capita</th>\n",
       "      <th>LastDayWeek</th>\n",
       "      <th>MonthMax</th>\n",
       "      <th>Year</th>\n",
       "      <th>MonthName</th>\n",
       "      <th>t_avg</th>\n",
       "      <th>tavg_anomaly</th>\n",
       "      <th>precipitate</th>\n",
       "      <th>pcp_anomaly</th>\n",
       "    </tr>\n",
       "  </thead>\n",
       "  <tbody>\n",
       "    <tr>\n",
       "      <th>0</th>\n",
       "      <td>196601</td>\n",
       "      <td>AL</td>\n",
       "      <td>alabama</td>\n",
       "      <td>HEPATITIS A</td>\n",
       "      <td>5</td>\n",
       "      <td>0.14</td>\n",
       "      <td>1966-01-01</td>\n",
       "      <td>1</td>\n",
       "      <td>1966</td>\n",
       "      <td>January</td>\n",
       "      <td>0.513353</td>\n",
       "      <td>0.395639</td>\n",
       "      <td>0.374372</td>\n",
       "      <td>0.341324</td>\n",
       "    </tr>\n",
       "    <tr>\n",
       "      <th>1</th>\n",
       "      <td>196601</td>\n",
       "      <td>AL</td>\n",
       "      <td>alabama</td>\n",
       "      <td>RUBELLA</td>\n",
       "      <td>7</td>\n",
       "      <td>0.20</td>\n",
       "      <td>1966-01-01</td>\n",
       "      <td>1</td>\n",
       "      <td>1966</td>\n",
       "      <td>January</td>\n",
       "      <td>0.513353</td>\n",
       "      <td>0.395639</td>\n",
       "      <td>0.374372</td>\n",
       "      <td>0.341324</td>\n",
       "    </tr>\n",
       "    <tr>\n",
       "      <th>2</th>\n",
       "      <td>196601</td>\n",
       "      <td>AR</td>\n",
       "      <td>arkansas</td>\n",
       "      <td>HEPATITIS A</td>\n",
       "      <td>11</td>\n",
       "      <td>0.58</td>\n",
       "      <td>1966-01-01</td>\n",
       "      <td>1</td>\n",
       "      <td>1966</td>\n",
       "      <td>January</td>\n",
       "      <td>0.460930</td>\n",
       "      <td>0.414330</td>\n",
       "      <td>0.270101</td>\n",
       "      <td>0.317922</td>\n",
       "    </tr>\n",
       "    <tr>\n",
       "      <th>3</th>\n",
       "      <td>196601</td>\n",
       "      <td>AR</td>\n",
       "      <td>arkansas</td>\n",
       "      <td>MEASLES</td>\n",
       "      <td>2</td>\n",
       "      <td>0.11</td>\n",
       "      <td>1966-01-01</td>\n",
       "      <td>1</td>\n",
       "      <td>1966</td>\n",
       "      <td>January</td>\n",
       "      <td>0.460930</td>\n",
       "      <td>0.414330</td>\n",
       "      <td>0.270101</td>\n",
       "      <td>0.317922</td>\n",
       "    </tr>\n",
       "    <tr>\n",
       "      <th>4</th>\n",
       "      <td>196601</td>\n",
       "      <td>AZ</td>\n",
       "      <td>arizona</td>\n",
       "      <td>HEPATITIS A</td>\n",
       "      <td>6</td>\n",
       "      <td>0.37</td>\n",
       "      <td>1966-01-01</td>\n",
       "      <td>1</td>\n",
       "      <td>1966</td>\n",
       "      <td>January</td>\n",
       "      <td>0.491592</td>\n",
       "      <td>0.457944</td>\n",
       "      <td>0.047739</td>\n",
       "      <td>0.285388</td>\n",
       "    </tr>\n",
       "  </tbody>\n",
       "</table>\n",
       "</div>"
      ],
      "text/plain": [
       "     week state state_name      disease  cases  incidence_per_capita  \\\n",
       "0  196601    AL    alabama  HEPATITIS A      5                  0.14   \n",
       "1  196601    AL    alabama      RUBELLA      7                  0.20   \n",
       "2  196601    AR   arkansas  HEPATITIS A     11                  0.58   \n",
       "3  196601    AR   arkansas      MEASLES      2                  0.11   \n",
       "4  196601    AZ    arizona  HEPATITIS A      6                  0.37   \n",
       "\n",
       "  LastDayWeek  MonthMax  Year MonthName     t_avg  tavg_anomaly  precipitate  \\\n",
       "0  1966-01-01         1  1966   January  0.513353      0.395639     0.374372   \n",
       "1  1966-01-01         1  1966   January  0.513353      0.395639     0.374372   \n",
       "2  1966-01-01         1  1966   January  0.460930      0.414330     0.270101   \n",
       "3  1966-01-01         1  1966   January  0.460930      0.414330     0.270101   \n",
       "4  1966-01-01         1  1966   January  0.491592      0.457944     0.047739   \n",
       "\n",
       "   pcp_anomaly  \n",
       "0     0.341324  \n",
       "1     0.341324  \n",
       "2     0.317922  \n",
       "3     0.317922  \n",
       "4     0.285388  "
      ]
     },
     "execution_count": 185,
     "metadata": {},
     "output_type": "execute_result"
    }
   ],
   "source": [
    "# examining the dataset \n",
    "train_data.head()"
   ]
  },
  {
   "cell_type": "code",
   "execution_count": 186,
   "metadata": {
    "scrolled": true
   },
   "outputs": [
    {
     "data": {
      "text/plain": [
       "0"
      ]
     },
     "execution_count": 186,
     "metadata": {},
     "output_type": "execute_result"
    }
   ],
   "source": [
    "# check for any duplicacy in the dataset (0: no duplicates)\n",
    "\n",
    "train_data.duplicated(subset=None, keep='first').sum()"
   ]
  },
  {
   "cell_type": "code",
   "execution_count": 187,
   "metadata": {
    "scrolled": true
   },
   "outputs": [],
   "source": [
    "# remove the useless attributes from the dataset \n",
    "\n",
    "# store unique state_name and diseases for label encoding (dont drop them!)\n",
    "states = np.asarray(train_data.state_name.unique())\n",
    "#dis = np.unique(train_data['disease'].values)\n",
    "\n",
    "week       = train_data.pop('week')\n",
    "LOW        = train_data.pop('LastDayWeek')\n",
    "monthN     = train_data.pop('MonthName')\n",
    "state     = train_data.pop('state')"
   ]
  },
  {
   "cell_type": "code",
   "execution_count": 188,
   "metadata": {
    "scrolled": true
   },
   "outputs": [],
   "source": [
    "# Create test_train splits\n",
    "\n",
    "from sklearn.model_selection import train_test_split as tts\n",
    "\n",
    "y = train_data.pop('disease')\n",
    "train, test, y_train, y_test = tts(train_data, y,test_size = 0.3, shuffle = True)\n"
   ]
  },
  {
   "cell_type": "code",
   "execution_count": 189,
   "metadata": {},
   "outputs": [
    {
     "name": "stdout",
     "output_type": "stream",
     "text": [
      "(42427, 9)\n",
      "(42427,)\n",
      "(18183, 9)\n",
      "(18183,)\n"
     ]
    }
   ],
   "source": [
    "# check dimensions\n",
    "\n",
    "print train.shape\n",
    "print y_train.shape\n",
    "\n",
    "print test.shape\n",
    "print y_test.shape"
   ]
  },
  {
   "cell_type": "markdown",
   "metadata": {},
   "source": [
    "## Applying ML"
   ]
  },
  {
   "cell_type": "code",
   "execution_count": 190,
   "metadata": {
    "scrolled": true
   },
   "outputs": [
    {
     "data": {
      "text/html": [
       "<div>\n",
       "<style>\n",
       "    .dataframe thead tr:only-child th {\n",
       "        text-align: right;\n",
       "    }\n",
       "\n",
       "    .dataframe thead th {\n",
       "        text-align: left;\n",
       "    }\n",
       "\n",
       "    .dataframe tbody tr th {\n",
       "        vertical-align: top;\n",
       "    }\n",
       "</style>\n",
       "<table border=\"1\" class=\"dataframe\">\n",
       "  <thead>\n",
       "    <tr style=\"text-align: right;\">\n",
       "      <th></th>\n",
       "      <th>cases</th>\n",
       "      <th>incidence_per_capita</th>\n",
       "      <th>MonthMax</th>\n",
       "      <th>Year</th>\n",
       "      <th>t_avg</th>\n",
       "      <th>tavg_anomaly</th>\n",
       "      <th>precipitate</th>\n",
       "      <th>pcp_anomaly</th>\n",
       "    </tr>\n",
       "  </thead>\n",
       "  <tbody>\n",
       "    <tr>\n",
       "      <th>count</th>\n",
       "      <td>42427.000000</td>\n",
       "      <td>42427.000000</td>\n",
       "      <td>42427.000000</td>\n",
       "      <td>42427.000000</td>\n",
       "      <td>42427.000000</td>\n",
       "      <td>42427.000000</td>\n",
       "      <td>42427.000000</td>\n",
       "      <td>42427.000000</td>\n",
       "    </tr>\n",
       "    <tr>\n",
       "      <th>mean</th>\n",
       "      <td>25.680321</td>\n",
       "      <td>0.751023</td>\n",
       "      <td>2.065006</td>\n",
       "      <td>1982.141702</td>\n",
       "      <td>0.646158</td>\n",
       "      <td>0.548762</td>\n",
       "      <td>0.198425</td>\n",
       "      <td>0.308362</td>\n",
       "    </tr>\n",
       "    <tr>\n",
       "      <th>std</th>\n",
       "      <td>99.047222</td>\n",
       "      <td>2.864421</td>\n",
       "      <td>0.793196</td>\n",
       "      <td>13.045616</td>\n",
       "      <td>0.171159</td>\n",
       "      <td>0.094952</td>\n",
       "      <td>0.124168</td>\n",
       "      <td>0.082830</td>\n",
       "    </tr>\n",
       "    <tr>\n",
       "      <th>min</th>\n",
       "      <td>0.000000</td>\n",
       "      <td>0.000000</td>\n",
       "      <td>1.000000</td>\n",
       "      <td>1960.000000</td>\n",
       "      <td>0.000000</td>\n",
       "      <td>0.000000</td>\n",
       "      <td>0.000000</td>\n",
       "      <td>0.000000</td>\n",
       "    </tr>\n",
       "    <tr>\n",
       "      <th>25%</th>\n",
       "      <td>1.000000</td>\n",
       "      <td>0.010000</td>\n",
       "      <td>1.000000</td>\n",
       "      <td>1972.000000</td>\n",
       "      <td>0.523244</td>\n",
       "      <td>0.492212</td>\n",
       "      <td>0.104899</td>\n",
       "      <td>0.258562</td>\n",
       "    </tr>\n",
       "    <tr>\n",
       "      <th>50%</th>\n",
       "      <td>3.000000</td>\n",
       "      <td>0.090000</td>\n",
       "      <td>2.000000</td>\n",
       "      <td>1980.000000</td>\n",
       "      <td>0.663699</td>\n",
       "      <td>0.548287</td>\n",
       "      <td>0.183417</td>\n",
       "      <td>0.299087</td>\n",
       "    </tr>\n",
       "    <tr>\n",
       "      <th>75%</th>\n",
       "      <td>13.000000</td>\n",
       "      <td>0.390000</td>\n",
       "      <td>3.000000</td>\n",
       "      <td>1991.000000</td>\n",
       "      <td>0.786350</td>\n",
       "      <td>0.607477</td>\n",
       "      <td>0.269472</td>\n",
       "      <td>0.347603</td>\n",
       "    </tr>\n",
       "    <tr>\n",
       "      <th>max</th>\n",
       "      <td>4176.000000</td>\n",
       "      <td>143.950000</td>\n",
       "      <td>3.000000</td>\n",
       "      <td>2011.000000</td>\n",
       "      <td>0.990109</td>\n",
       "      <td>1.000000</td>\n",
       "      <td>1.000000</td>\n",
       "      <td>1.000000</td>\n",
       "    </tr>\n",
       "  </tbody>\n",
       "</table>\n",
       "</div>"
      ],
      "text/plain": [
       "              cases  incidence_per_capita      MonthMax          Year  \\\n",
       "count  42427.000000          42427.000000  42427.000000  42427.000000   \n",
       "mean      25.680321              0.751023      2.065006   1982.141702   \n",
       "std       99.047222              2.864421      0.793196     13.045616   \n",
       "min        0.000000              0.000000      1.000000   1960.000000   \n",
       "25%        1.000000              0.010000      1.000000   1972.000000   \n",
       "50%        3.000000              0.090000      2.000000   1980.000000   \n",
       "75%       13.000000              0.390000      3.000000   1991.000000   \n",
       "max     4176.000000            143.950000      3.000000   2011.000000   \n",
       "\n",
       "              t_avg  tavg_anomaly   precipitate   pcp_anomaly  \n",
       "count  42427.000000  42427.000000  42427.000000  42427.000000  \n",
       "mean       0.646158      0.548762      0.198425      0.308362  \n",
       "std        0.171159      0.094952      0.124168      0.082830  \n",
       "min        0.000000      0.000000      0.000000      0.000000  \n",
       "25%        0.523244      0.492212      0.104899      0.258562  \n",
       "50%        0.663699      0.548287      0.183417      0.299087  \n",
       "75%        0.786350      0.607477      0.269472      0.347603  \n",
       "max        0.990109      1.000000      1.000000      1.000000  "
      ]
     },
     "execution_count": 190,
     "metadata": {},
     "output_type": "execute_result"
    }
   ],
   "source": [
    "# examine the test/train data now (uncomment the one you want to examine)\n",
    "\n",
    "train.describe()\n",
    "#test.describe()"
   ]
  },
  {
   "cell_type": "code",
   "execution_count": 192,
   "metadata": {
    "scrolled": true
   },
   "outputs": [],
   "source": [
    "# label encoding of useful non-numerical attributes\n",
    "\n",
    "from sklearn.preprocessing import LabelEncoder\n",
    "\n",
    "le = LabelEncoder()\n",
    "le.fit(y)\n",
    "\n",
    "y_train = le.transform(y_train)\n",
    "y_test = le.transform(y_test)\n",
    "\n",
    "le2 = LabelEncoder()\n",
    "le2.fit(states)\n",
    "\n",
    "train['state_name'] = le2.transform(train.state_name)\n",
    "test['state_name'] = le2.transform(test.state_name)"
   ]
  },
  {
   "cell_type": "code",
   "execution_count": 194,
   "metadata": {},
   "outputs": [
    {
     "data": {
      "text/plain": [
       "state_name                int64\n",
       "cases                     int64\n",
       "incidence_per_capita    float64\n",
       "MonthMax                  int64\n",
       "Year                      int64\n",
       "t_avg                   float64\n",
       "tavg_anomaly            float64\n",
       "precipitate             float64\n",
       "pcp_anomaly             float64\n",
       "dtype: object"
      ]
     },
     "execution_count": 194,
     "metadata": {},
     "output_type": "execute_result"
    }
   ],
   "source": [
    "# check dtypes of each attribute (numst be numerical)\n",
    "\n",
    "test.dtypes"
   ]
  },
  {
   "cell_type": "code",
   "execution_count": 200,
   "metadata": {
    "scrolled": true
   },
   "outputs": [
    {
     "name": "stdout",
     "output_type": "stream",
     "text": [
      "training...%s LR\n",
      "LR\n",
      "testing_accuracy 34.0922840015\n",
      "training_accuracy 34.6618898343\n",
      "precision_test:  20.9610078099\n",
      "f1_score:  16.2646528436\n",
      "recall_score:  21.5504614559\n",
      "training...%s KNC\n",
      "KNC\n",
      "testing_accuracy 45.0695704779\n",
      "training_accuracy 92.2030782285\n",
      "precision_test:  51.0736642172\n",
      "f1_score:  51.2168910384\n",
      "recall_score:  51.4040419056\n",
      "training...%s SVC\n",
      "SVC\n",
      "testing_accuracy 49.3867898587\n",
      "training_accuracy 60.2493695053\n",
      "precision_test:  54.6867847223\n",
      "f1_score:  53.7997640592\n",
      "recall_score:  53.8458797092\n",
      "training...%s QDA\n",
      "QDA\n",
      "testing_accuracy 34.3617664852\n",
      "training_accuracy 34.025502628\n",
      "precision_test:  44.7915763401\n",
      "f1_score:  36.2026138485\n",
      "recall_score:  43.9296374291\n",
      "training...%s RFC\n",
      "RFC\n",
      "testing_accuracy 35.0932189408\n",
      "training_accuracy 90.645108068\n",
      "precision_test:  40.9571538163\n",
      "f1_score:  40.3022582389\n",
      "recall_score:  40.0889562749\n",
      "training...%s ADC\n",
      "ADC\n",
      "testing_accuracy 39.8504097234\n",
      "training_accuracy 39.4677917364\n",
      "precision_test:  47.5284800819\n",
      "f1_score:  44.9417314779\n",
      "recall_score:  44.888359898\n",
      "training...%s SGDC\n",
      "SGDC\n",
      "testing_accuracy 34.444261123\n",
      "training_accuracy 34.7891672756\n",
      "precision_test:  19.296605337\n",
      "f1_score:  19.6799181068\n",
      "recall_score:  25.6936528255\n",
      "training...%s DTC\n",
      "DTC\n",
      "testing_accuracy 47.9128856624\n",
      "training_accuracy 48.5445588894\n",
      "precision_test:  58.1908975894\n",
      "f1_score:  49.7755015505\n",
      "recall_score:  51.6967377034\n",
      "training...%s LDA\n",
      "LDA\n",
      "testing_accuracy 33.9327943684\n",
      "training_accuracy 34.2541306244\n",
      "precision_test:  26.6986628804\n",
      "f1_score:  24.1848539531\n",
      "recall_score:  26.6752161954\n",
      "training...%s MNB\n",
      "MNB\n",
      "testing_accuracy 28.4331518451\n",
      "training_accuracy 28.6468522403\n",
      "precision_test:  25.9270831835\n",
      "f1_score:  20.6208173559\n",
      "recall_score:  25.7209288624\n"
     ]
    }
   ],
   "source": [
    "#model training (try to load few classifiers for examining performance and chose the best)\n",
    "\n",
    "from sklearn.linear_model import SGDClassifier, LogisticRegression\n",
    "from sklearn.naive_bayes import MultinomialNB as MNB\n",
    "from sklearn.neighbors import KNeighborsClassifier\n",
    "from sklearn.svm import SVC\n",
    "from sklearn.tree import DecisionTreeClassifier\n",
    "from sklearn.ensemble import RandomForestClassifier, AdaBoostClassifier\n",
    "from sklearn.discriminant_analysis import QuadraticDiscriminantAnalysis, LinearDiscriminantAnalysis\n",
    "\n",
    "from sklearn.metrics import accuracy_score, precision_score, recall_score, f1_score\n",
    "\n",
    "classifiers=[\n",
    "    (LogisticRegression(penalty='l1'),\"LR\"),\n",
    "    (KNeighborsClassifier(n_neighbors=3, weights='distance', algorithm = 'auto'),\"KNC\"),\n",
    "    (SVC(),'SVC'),\n",
    "    (QuadraticDiscriminantAnalysis(),'QDA'),\n",
    "    (RandomForestClassifier(max_depth=50, n_estimators=10, max_features=1),'RFC'),\n",
    "    (AdaBoostClassifier(),'ADC'),\n",
    "    (SGDClassifier(),'SGDC'),\n",
    "    (DecisionTreeClassifier(max_depth=5),'DTC'),\n",
    "    (LinearDiscriminantAnalysis(),'LDA'),\n",
    "    (MNB(), 'MNB')\n",
    "]\n",
    "\n",
    "eval_ =[]\n",
    "train_acc, test_acc, name = [], [], []\n",
    "f1_, rec_, prec_ = [], [], []\n",
    "for clf in classifiers:\n",
    "    print \"training...%s\",clf[1]\n",
    "    clf[0].fit(train, y_train)\n",
    "    y_preds = clf[0].predict(test)\n",
    "    y_preds_train = clf[0].predict(train)\n",
    "    name.append(clf[1])\n",
    "    train_acc.append( accuracy_score(y_train, y_preds_train)*100 )\n",
    "    test_acc.append( accuracy_score(y_test, y_preds)*100 )\n",
    "    f1_.append( f1_score(y_test, y_preds, average='macro')*100 )\n",
    "    rec_.append( recall_score(y_test, y_preds, average='macro')*100 )\n",
    "    prec_.append( precision_score(y_test, y_preds, average='macro')*100 )\n",
    "    print clf[1]\n",
    "    print \"testing_accuracy\", accuracy_score(y_test, y_preds)*100\n",
    "    print \"training_accuracy\", accuracy_score(y_train, y_preds_train)*100\n",
    "    print \"precision_test: \", precision_score(y_test, y_preds, average='macro')*100\n",
    "    print \"f1_score: \", f1_score(y_test, y_preds, average='macro')*100\n",
    "    print \"recall_score: \", recall_score(y_test, y_preds, average='macro')*100\n",
    "eval_.append(train_acc)\n",
    "eval_.append(test_acc)\n",
    "eval_.append(f1_)\n",
    "eval_.append(rec_)\n",
    "eval_.append(prec_)"
   ]
  },
  {
   "cell_type": "code",
   "execution_count": 213,
   "metadata": {
    "scrolled": true
   },
   "outputs": [
    {
     "data": {
      "image/png": "[encoded data removed]",
      "text/plain": [
       "<matplotlib.figure.Figure at 0x7fe1428ac190>"
      ]
     },
     "metadata": {},
     "output_type": "display_data"
    },
    {
     "data": {
      "image/png": "[encoded data removed]",
      "text/plain": [
       "<matplotlib.figure.Figure at 0x7fe1428a0ad0>"
      ]
     },
     "metadata": {},
     "output_type": "display_data"
    },
    {
     "data": {
      "image/png": "[encoded data removed]",
      "text/plain": [
       "<matplotlib.figure.Figure at 0x7fe142489a10>"
      ]
     },
     "metadata": {},
     "output_type": "display_data"
    },
    {
     "data": {
      "image/png": "[encoded data removed]",
      "text/plain": [
       "<matplotlib.figure.Figure at 0x7fe141ec89d0>"
      ]
     },
     "metadata": {},
     "output_type": "display_data"
    },
    {
     "data": {
      "image/png": "[encoded data removed]",
      "text/plain": [
       "<matplotlib.figure.Figure at 0x7fe1280f1d10>"
      ]
     },
     "metadata": {},
     "output_type": "display_data"
    }
   ],
   "source": [
    "from matplotlib import pyplot as plt\n",
    "\n",
    "titles = ['train_accuracy', 'test_accuracy', 'f1_score', 'recall', 'precision']\n",
    "\n",
    "for i in xrange(len(eval_)):\n",
    "    fig = plt.figure()\n",
    "    ax = fig.add_subplot(111)\n",
    "    A = eval_[i][:]\n",
    "    plt.title(titles[i])\n",
    "    plt.plot(A)\n",
    "    for j, label in enumerate(name):\n",
    "        plt.text(j,A[j], label) \n",
    "    plt.show()"
   ]
  },
  {
   "cell_type": "markdown",
   "metadata": {},
   "source": [
    "## Visualisations\n",
    "\n",
    "We try to visualize the number of cases of disease outbreak in every state for all states of U.S.for a particular year given as an input in range **1960 - 2011**<br>\n",
    "\n"
   ]
  },
  {
   "cell_type": "code",
   "execution_count": 214,
   "metadata": {
    "collapsed": true
   },
   "outputs": [],
   "source": [
    "# using plotly for the beautiful plots \n",
    "\n",
    "import plotly.plotly as py\n",
    "import plotly\n",
    "import pandas as pd\n",
    "\n",
    "# login api for plotly (dont forget to sign up to plotly)\n",
    "plotly.tools.set_credentials_file(username= 'ab-bh', api_key ='*********')"
   ]
  },
  {
   "cell_type": "code",
   "execution_count": 217,
   "metadata": {
    "collapsed": true
   },
   "outputs": [],
   "source": [
    "# for UI\n",
    "\n",
    "import pandas as pd \n",
    "import numpy as np\n",
    "import plotly.offline as py\n",
    "\n",
    "def get_viz(the_yr_data, yr):\n",
    "    py.init_notebook_mode(connected=True)\n",
    "\n",
    "\n",
    "    for col in the_yr_data.columns:\n",
    "        the_yr_data[col] = the_yr_data[col].astype(str)\n",
    "\n",
    "    scl = [[0.0, 'rgb(242,240,247)'],[0.2, 'rgb(218,218,235)'],[0.4, 'rgb(188,189,220)'],\\\n",
    "                [0.6, 'rgb(158,154,200)'],[0.8, 'rgb(117,107,177)'],[1.0, 'rgb(84,39,143)']]\n",
    "    scl = [\n",
    "            # Let first 10% (0.1) of the values have color rgb(0, 0, 0)\n",
    "            [0, 'rgb(0, 0, 0)'],\n",
    "            [0.1, 'rgb(0, 0, 0)'],\n",
    "\n",
    "            # Let values between 10-20% of the min and max of z\n",
    "            # have color rgb(20, 20, 20)\n",
    "            [0.1, 'rgb(20, 20, 20)'],\n",
    "            [0.2, 'rgb(20, 20, 20)'],\n",
    "\n",
    "            # Values between 20-30% of the min and max of z\n",
    "            # have color rgb(40, 40, 40)\n",
    "            [0.2, 'rgb(40, 40, 40)'],\n",
    "            [0.3, 'rgb(40, 40, 40)'],\n",
    "\n",
    "            [0.3, 'rgb(60, 60, 60)'],\n",
    "            [0.4, 'rgb(60, 60, 60)'],\n",
    "\n",
    "            [0.4, 'rgb(80, 80, 80)'],\n",
    "            [0.5, 'rgb(80, 80, 80)'],\n",
    "\n",
    "            [0.5, 'rgb(100, 100, 100)'],\n",
    "            [0.6, 'rgb(100, 100, 100)'],\n",
    "\n",
    "            [0.6, 'rgb(120, 120, 120)'],\n",
    "            [0.7, 'rgb(120, 120, 120)'],\n",
    "\n",
    "            [0.7, 'rgb(140, 140, 140)'],\n",
    "            [0.8, 'rgb(140, 140, 140)'],\n",
    "\n",
    "            [0.8, 'rgb(160, 160, 160)'],\n",
    "            [0.9, 'rgb(160, 160, 160)'],\n",
    "\n",
    "            [0.9, 'rgb(180, 180, 180)'],\n",
    "            [1.0, 'rgb(180, 180, 180)']\n",
    "        ]\n",
    "    data = [ dict(\n",
    "            type='choropleth',\n",
    "            colorscale = scl,\n",
    "            autocolorscale = True,\n",
    "            locations = the_yr_data['state'],\n",
    "            z = the_yr_data['cases'].astype(float),\n",
    "            zmin=0,\n",
    "            zmax=500,\n",
    "            locationmode = 'USA-states',\n",
    "            text = the_yr_data['text'],\n",
    "            marker = dict(\n",
    "                line = dict (\n",
    "                    color = 'rgb(255,255,255)',\n",
    "                    width = 2\n",
    "                )\n",
    "            ),\n",
    "            colorbar = dict(\n",
    "                title = \"Disease outbreak - cases in %d\" %(yr)\n",
    "            )\n",
    "        ) ]\n",
    "\n",
    "    layout = dict(\n",
    "        title = '%d US Diseases Cases Found by State<br>(Hover for breakdown)' %(yr),\n",
    "        geo = dict(\n",
    "            scope='usa',\n",
    "            projection=dict( type='albers usa' ),\n",
    "            showlakes = True,\n",
    "            lakecolor = 'rgb(255, 255, 255)',\n",
    "            ),\n",
    "    )\n",
    "\n",
    "    fig = dict( data=data, layout=layout )\n",
    "\n",
    "    url = py.iplot( fig, validate=False)\n",
    "\n",
    "def get_1yr_viz(yr):\n",
    "    data = pd.read_csv('for_visulisation.csv')\n",
    "    the_yr_data = data.loc[data['Year'] ==yr]\n",
    "    from collections import defaultdict\n",
    "    har = defaultdict(set)\n",
    "    a = list(the_yr_data.state_name)\n",
    "    b = list(the_yr_data.disease)\n",
    "    #print len(a),len(b)\n",
    "    for i in xrange(len(a)):\n",
    "        har[a[i]].add(b[i])\n",
    "    \n",
    "    the_yr_data['disease_all'] = [' '.join(list(har[i])) for i in the_yr_data.state_name]\n",
    "    \n",
    "    the_yr_data['text'] = the_yr_data['state_name'] + '<br>' +\\\n",
    "    'Disease '+the_yr_data['disease_all']\n",
    "    \n",
    "    tf = the_yr_data.filter(['state_name','state','cases'], axis=1)\n",
    "    tf.cases = tf.cases.astype(int)\n",
    "    the_yr_data_2 = tf.groupby(['state_name','state']).sum().reset_index()\n",
    "    the_yr_data_2['disease_all'] = [' '.join(list(har[i])) for i in the_yr_data_2.state_name]\n",
    "    the_yr_data_2['text'] = the_yr_data_2['state_name'] + '<br>' +\\\n",
    "    'Disease '+the_yr_data_2['disease_all']\n",
    "    \n",
    "    get_viz(the_yr_data_2, yr)"
   ]
  },
  {
   "cell_type": "code",
   "execution_count": 218,
   "metadata": {},
   "outputs": [
    {
     "data": {
      "text/html": [
       "<script>requirejs.config({paths: { 'plotly': ['https://cdn.plot.ly/plotly-latest.min']},});if(!window.Plotly) {{require(['plotly'],function(plotly) {window.Plotly=plotly;});}}</script>"
      ],
      "text/vnd.plotly.v1+html": [
       "<script>requirejs.config({paths: { 'plotly': ['https://cdn.plot.ly/plotly-latest.min']},});if(!window.Plotly) {{require(['plotly'],function(plotly) {window.Plotly=plotly;});}}</script>"
      ]
     },
     "metadata": {},
     "output_type": "display_data"
    },
    {
     "data": {
      "application/vnd.plotly.v1+json": {
       "data": [
        {
         "autocolorscale": true,
         "colorbar": {
          "title": "Disease outbreak - cases in 2011"
         },
         "colorscale": [
          [
           0,
           "rgb(0, 0, 0)"
          ],
          [
           0.1,
           "rgb(0, 0, 0)"
          ],
          [
           0.1,
           "rgb(20, 20, 20)"
          ],
          [
           0.2,
           "rgb(20, 20, 20)"
          ],
          [
           0.2,
           "rgb(40, 40, 40)"
          ],
          [
           0.3,
           "rgb(40, 40, 40)"
          ],
          [
           0.3,
           "rgb(60, 60, 60)"
          ],
          [
           0.4,
           "rgb(60, 60, 60)"
          ],
          [
           0.4,
           "rgb(80, 80, 80)"
          ],
          [
           0.5,
           "rgb(80, 80, 80)"
          ],
          [
           0.5,
           "rgb(100, 100, 100)"
          ],
          [
           0.6,
           "rgb(100, 100, 100)"
          ],
          [
           0.6,
           "rgb(120, 120, 120)"
          ],
          [
           0.7,
           "rgb(120, 120, 120)"
          ],
          [
           0.7,
           "rgb(140, 140, 140)"
          ],
          [
           0.8,
           "rgb(140, 140, 140)"
          ],
          [
           0.8,
           "rgb(160, 160, 160)"
          ],
          [
           0.9,
           "rgb(160, 160, 160)"
          ],
          [
           0.9,
           "rgb(180, 180, 180)"
          ],
          [
           1,
           "rgb(180, 180, 180)"
          ]
         ],
         "locationmode": "USA-states",
         "locations": [
          "AL",
          "AK",
          "AZ",
          "AR",
          "CA",
          "CO",
          "CT",
          "DE",
          "DC",
          "FL",
          "GA",
          "HI",
          "ID",
          "IL",
          "IN",
          "IA",
          "KS",
          "KY",
          "LA",
          "ME",
          "MD",
          "MA",
          "MI",
          "MN",
          "MS",
          "MO",
          "MT",
          "NE",
          "NV",
          "NH",
          "NJ",
          "NM",
          "NY",
          "NC",
          "ND",
          "OH",
          "OK",
          "OR",
          "PA",
          "RI",
          "SC",
          "SD",
          "TN",
          "TX",
          "UT",
          "VT",
          "VA",
          "WA",
          "WV",
          "WI",
          "WY"
         ],
         "marker": {
          "line": {
           "color": "rgb(255,255,255)",
           "width": 2
          }
         },
         "text": [
          "ALABAMA<br>Disease PERTUSSIS HEPATITIS A",
          "ALASKA<br>Disease PERTUSSIS HEPATITIS A",
          "ARIZONA<br>Disease PERTUSSIS HEPATITIS A",
          "ARKANSAS<br>Disease PERTUSSIS HEPATITIS A",
          "CALIFORNIA<br>Disease PERTUSSIS HEPATITIS A",
          "COLORADO<br>Disease PERTUSSIS HEPATITIS A",
          "CONNECTICUT<br>Disease PERTUSSIS HEPATITIS A",
          "DELAWARE<br>Disease PERTUSSIS HEPATITIS A",
          "DISTRICT OF COLUMBIA<br>Disease PERTUSSIS",
          "FLORIDA<br>Disease PERTUSSIS HEPATITIS A",
          "GEORGIA<br>Disease PERTUSSIS HEPATITIS A",
          "HAWAII<br>Disease PERTUSSIS HEPATITIS A",
          "IDAHO<br>Disease PERTUSSIS HEPATITIS A",
          "ILLINOIS<br>Disease PERTUSSIS HEPATITIS A",
          "INDIANA<br>Disease PERTUSSIS HEPATITIS A",
          "IOWA<br>Disease PERTUSSIS HEPATITIS A",
          "KANSAS<br>Disease PERTUSSIS HEPATITIS A",
          "KENTUCKY<br>Disease PERTUSSIS HEPATITIS A",
          "LOUISIANA<br>Disease PERTUSSIS HEPATITIS A",
          "MAINE<br>Disease PERTUSSIS HEPATITIS A",
          "MARYLAND<br>Disease PERTUSSIS HEPATITIS A",
          "MASSACHUSETTS<br>Disease PERTUSSIS HEPATITIS A",
          "MICHIGAN<br>Disease PERTUSSIS HEPATITIS A",
          "MINNESOTA<br>Disease PERTUSSIS HEPATITIS A",
          "MISSISSIPPI<br>Disease PERTUSSIS HEPATITIS A",
          "MISSOURI<br>Disease PERTUSSIS HEPATITIS A",
          "MONTANA<br>Disease PERTUSSIS HEPATITIS A",
          "NEBRASKA<br>Disease PERTUSSIS HEPATITIS A",
          "NEVADA<br>Disease PERTUSSIS HEPATITIS A",
          "NEW HAMPSHIRE<br>Disease PERTUSSIS",
          "NEW JERSEY<br>Disease PERTUSSIS HEPATITIS A",
          "NEW MEXICO<br>Disease PERTUSSIS HEPATITIS A",
          "NEW YORK<br>Disease PERTUSSIS HEPATITIS A",
          "NORTH CAROLINA<br>Disease PERTUSSIS HEPATITIS A",
          "NORTH DAKOTA<br>Disease PERTUSSIS",
          "OHIO<br>Disease PERTUSSIS HEPATITIS A",
          "OKLAHOMA<br>Disease PERTUSSIS HEPATITIS A",
          "OREGON<br>Disease PERTUSSIS HEPATITIS A",
          "PENNSYLVANIA<br>Disease PERTUSSIS HEPATITIS A",
          "RHODE ISLAND<br>Disease PERTUSSIS HEPATITIS A",
          "SOUTH CAROLINA<br>Disease PERTUSSIS HEPATITIS A",
          "SOUTH DAKOTA<br>Disease PERTUSSIS HEPATITIS A",
          "TENNESSEE<br>Disease PERTUSSIS HEPATITIS A",
          "TEXAS<br>Disease PERTUSSIS HEPATITIS A",
          "UTAH<br>Disease PERTUSSIS HEPATITIS A",
          "VERMONT<br>Disease PERTUSSIS HEPATITIS A",
          "VIRGINIA<br>Disease PERTUSSIS HEPATITIS A",
          "WASHINGTON<br>Disease PERTUSSIS HEPATITIS A",
          "WEST VIRGINIA<br>Disease PERTUSSIS HEPATITIS A",
          "WISCONSIN<br>Disease PERTUSSIS HEPATITIS A",
          "WYOMING<br>Disease PERTUSSIS HEPATITIS A"
         ],
         "type": "choropleth",
         "z": [
          113,
          28,
          285,
          50,
          1321,
          486,
          59,
          22,
          5,
          419,
          114,
          72,
          150,
          995,
          299,
          214,
          139,
          83,
          18,
          112,
          110,
          127,
          281,
          299,
          46,
          255,
          120,
          60,
          34,
          111,
          223,
          182,
          1022,
          189,
          59,
          790,
          46,
          186,
          511,
          20,
          105,
          30,
          105,
          613,
          286,
          47,
          197,
          759,
          41,
          356,
          8
         ],
         "zmax": 500,
         "zmin": 0
        }
       ],
       "layout": {
        "geo": {
         "lakecolor": "rgb(255, 255, 255)",
         "projection": {
          "type": "albers usa"
         },
         "scope": "usa",
         "showlakes": true
        },
        "title": "2011 US Diseases Cases Found by State<br>(Hover for breakdown)"
       }
      },
      "text/html": [
       "<div id=\"79fa5dd1-1f64-4b18-89df-ae120a591fff\" style=\"height: 525px; width: 100%;\" class=\"plotly-graph-div\"></div><script type=\"text/javascript\">require([\"plotly\"], function(Plotly) { window.PLOTLYENV=window.PLOTLYENV || {};window.PLOTLYENV.BASE_URL=\"https://plot.ly\";Plotly.newPlot(\"79fa5dd1-1f64-4b18-89df-ae120a591fff\", [{\"autocolorscale\": true, \"zmax\": 500, \"colorscale\": [[0, \"rgb(0, 0, 0)\"], [0.1, \"rgb(0, 0, 0)\"], [0.1, \"rgb(20, 20, 20)\"], [0.2, \"rgb(20, 20, 20)\"], [0.2, \"rgb(40, 40, 40)\"], [0.3, \"rgb(40, 40, 40)\"], [0.3, \"rgb(60, 60, 60)\"], [0.4, \"rgb(60, 60, 60)\"], [0.4, \"rgb(80, 80, 80)\"], [0.5, \"rgb(80, 80, 80)\"], [0.5, \"rgb(100, 100, 100)\"], [0.6, \"rgb(100, 100, 100)\"], [0.6, \"rgb(120, 120, 120)\"], [0.7, \"rgb(120, 120, 120)\"], [0.7, \"rgb(140, 140, 140)\"], [0.8, \"rgb(140, 140, 140)\"], [0.8, \"rgb(160, 160, 160)\"], [0.9, \"rgb(160, 160, 160)\"], [0.9, \"rgb(180, 180, 180)\"], [1.0, \"rgb(180, 180, 180)\"]], \"text\": [\"ALABAMA<br>Disease PERTUSSIS HEPATITIS A\", \"ALASKA<br>Disease PERTUSSIS HEPATITIS A\", \"ARIZONA<br>Disease PERTUSSIS HEPATITIS A\", \"ARKANSAS<br>Disease PERTUSSIS HEPATITIS A\", \"CALIFORNIA<br>Disease PERTUSSIS HEPATITIS A\", \"COLORADO<br>Disease PERTUSSIS HEPATITIS A\", \"CONNECTICUT<br>Disease PERTUSSIS HEPATITIS A\", \"DELAWARE<br>Disease PERTUSSIS HEPATITIS A\", \"DISTRICT OF COLUMBIA<br>Disease PERTUSSIS\", \"FLORIDA<br>Disease PERTUSSIS HEPATITIS A\", \"GEORGIA<br>Disease PERTUSSIS HEPATITIS A\", \"HAWAII<br>Disease PERTUSSIS HEPATITIS A\", \"IDAHO<br>Disease PERTUSSIS HEPATITIS A\", \"ILLINOIS<br>Disease PERTUSSIS HEPATITIS A\", \"INDIANA<br>Disease PERTUSSIS HEPATITIS A\", \"IOWA<br>Disease PERTUSSIS HEPATITIS A\", \"KANSAS<br>Disease PERTUSSIS HEPATITIS A\", \"KENTUCKY<br>Disease PERTUSSIS HEPATITIS A\", \"LOUISIANA<br>Disease PERTUSSIS HEPATITIS A\", \"MAINE<br>Disease PERTUSSIS HEPATITIS A\", \"MARYLAND<br>Disease PERTUSSIS HEPATITIS A\", \"MASSACHUSETTS<br>Disease PERTUSSIS HEPATITIS A\", \"MICHIGAN<br>Disease PERTUSSIS HEPATITIS A\", \"MINNESOTA<br>Disease PERTUSSIS HEPATITIS A\", \"MISSISSIPPI<br>Disease PERTUSSIS HEPATITIS A\", \"MISSOURI<br>Disease PERTUSSIS HEPATITIS A\", \"MONTANA<br>Disease PERTUSSIS HEPATITIS A\", \"NEBRASKA<br>Disease PERTUSSIS HEPATITIS A\", \"NEVADA<br>Disease PERTUSSIS HEPATITIS A\", \"NEW HAMPSHIRE<br>Disease PERTUSSIS\", \"NEW JERSEY<br>Disease PERTUSSIS HEPATITIS A\", \"NEW MEXICO<br>Disease PERTUSSIS HEPATITIS A\", \"NEW YORK<br>Disease PERTUSSIS HEPATITIS A\", \"NORTH CAROLINA<br>Disease PERTUSSIS HEPATITIS A\", \"NORTH DAKOTA<br>Disease PERTUSSIS\", \"OHIO<br>Disease PERTUSSIS HEPATITIS A\", \"OKLAHOMA<br>Disease PERTUSSIS HEPATITIS A\", \"OREGON<br>Disease PERTUSSIS HEPATITIS A\", \"PENNSYLVANIA<br>Disease PERTUSSIS HEPATITIS A\", \"RHODE ISLAND<br>Disease PERTUSSIS HEPATITIS A\", \"SOUTH CAROLINA<br>Disease PERTUSSIS HEPATITIS A\", \"SOUTH DAKOTA<br>Disease PERTUSSIS HEPATITIS A\", \"TENNESSEE<br>Disease PERTUSSIS HEPATITIS A\", \"TEXAS<br>Disease PERTUSSIS HEPATITIS A\", \"UTAH<br>Disease PERTUSSIS HEPATITIS A\", \"VERMONT<br>Disease PERTUSSIS HEPATITIS A\", \"VIRGINIA<br>Disease PERTUSSIS HEPATITIS A\", \"WASHINGTON<br>Disease PERTUSSIS HEPATITIS A\", \"WEST VIRGINIA<br>Disease PERTUSSIS HEPATITIS A\", \"WISCONSIN<br>Disease PERTUSSIS HEPATITIS A\", \"WYOMING<br>Disease PERTUSSIS HEPATITIS A\"], \"zmin\": 0, \"locations\": [\"AL\", \"AK\", \"AZ\", \"AR\", \"CA\", \"CO\", \"CT\", \"DE\", \"DC\", \"FL\", \"GA\", \"HI\", \"ID\", \"IL\", \"IN\", \"IA\", \"KS\", \"KY\", \"LA\", \"ME\", \"MD\", \"MA\", \"MI\", \"MN\", \"MS\", \"MO\", \"MT\", \"NE\", \"NV\", \"NH\", \"NJ\", \"NM\", \"NY\", \"NC\", \"ND\", \"OH\", \"OK\", \"OR\", \"PA\", \"RI\", \"SC\", \"SD\", \"TN\", \"TX\", \"UT\", \"VT\", \"VA\", \"WA\", \"WV\", \"WI\", \"WY\"], \"colorbar\": {\"title\": \"Disease outbreak - cases in 2011\"}, \"type\": \"choropleth\", \"marker\": {\"line\": {\"color\": \"rgb(255,255,255)\", \"width\": 2}}, \"z\": [113.0, 28.0, 285.0, 50.0, 1321.0, 486.0, 59.0, 22.0, 5.0, 419.0, 114.0, 72.0, 150.0, 995.0, 299.0, 214.0, 139.0, 83.0, 18.0, 112.0, 110.0, 127.0, 281.0, 299.0, 46.0, 255.0, 120.0, 60.0, 34.0, 111.0, 223.0, 182.0, 1022.0, 189.0, 59.0, 790.0, 46.0, 186.0, 511.0, 20.0, 105.0, 30.0, 105.0, 613.0, 286.0, 47.0, 197.0, 759.0, 41.0, 356.0, 8.0], \"locationmode\": \"USA-states\"}], {\"geo\": {\"showlakes\": true, \"scope\": \"usa\", \"projection\": {\"type\": \"albers usa\"}, \"lakecolor\": \"rgb(255, 255, 255)\"}, \"title\": \"2011 US Diseases Cases Found by State<br>(Hover for breakdown)\"}, {\"linkText\": \"Export to plot.ly\", \"showLink\": true})});</script>"
      ],
      "text/vnd.plotly.v1+html": [
       "<div id=\"79fa5dd1-1f64-4b18-89df-ae120a591fff\" style=\"height: 525px; width: 100%;\" class=\"plotly-graph-div\"></div><script type=\"text/javascript\">require([\"plotly\"], function(Plotly) { window.PLOTLYENV=window.PLOTLYENV || {};window.PLOTLYENV.BASE_URL=\"https://plot.ly\";Plotly.newPlot(\"79fa5dd1-1f64-4b18-89df-ae120a591fff\", [{\"autocolorscale\": true, \"zmax\": 500, \"colorscale\": [[0, \"rgb(0, 0, 0)\"], [0.1, \"rgb(0, 0, 0)\"], [0.1, \"rgb(20, 20, 20)\"], [0.2, \"rgb(20, 20, 20)\"], [0.2, \"rgb(40, 40, 40)\"], [0.3, \"rgb(40, 40, 40)\"], [0.3, \"rgb(60, 60, 60)\"], [0.4, \"rgb(60, 60, 60)\"], [0.4, \"rgb(80, 80, 80)\"], [0.5, \"rgb(80, 80, 80)\"], [0.5, \"rgb(100, 100, 100)\"], [0.6, \"rgb(100, 100, 100)\"], [0.6, \"rgb(120, 120, 120)\"], [0.7, \"rgb(120, 120, 120)\"], [0.7, \"rgb(140, 140, 140)\"], [0.8, \"rgb(140, 140, 140)\"], [0.8, \"rgb(160, 160, 160)\"], [0.9, \"rgb(160, 160, 160)\"], [0.9, \"rgb(180, 180, 180)\"], [1.0, \"rgb(180, 180, 180)\"]], \"text\": [\"ALABAMA<br>Disease PERTUSSIS HEPATITIS A\", \"ALASKA<br>Disease PERTUSSIS HEPATITIS A\", \"ARIZONA<br>Disease PERTUSSIS HEPATITIS A\", \"ARKANSAS<br>Disease PERTUSSIS HEPATITIS A\", \"CALIFORNIA<br>Disease PERTUSSIS HEPATITIS A\", \"COLORADO<br>Disease PERTUSSIS HEPATITIS A\", \"CONNECTICUT<br>Disease PERTUSSIS HEPATITIS A\", \"DELAWARE<br>Disease PERTUSSIS HEPATITIS A\", \"DISTRICT OF COLUMBIA<br>Disease PERTUSSIS\", \"FLORIDA<br>Disease PERTUSSIS HEPATITIS A\", \"GEORGIA<br>Disease PERTUSSIS HEPATITIS A\", \"HAWAII<br>Disease PERTUSSIS HEPATITIS A\", \"IDAHO<br>Disease PERTUSSIS HEPATITIS A\", \"ILLINOIS<br>Disease PERTUSSIS HEPATITIS A\", \"INDIANA<br>Disease PERTUSSIS HEPATITIS A\", \"IOWA<br>Disease PERTUSSIS HEPATITIS A\", \"KANSAS<br>Disease PERTUSSIS HEPATITIS A\", \"KENTUCKY<br>Disease PERTUSSIS HEPATITIS A\", \"LOUISIANA<br>Disease PERTUSSIS HEPATITIS A\", \"MAINE<br>Disease PERTUSSIS HEPATITIS A\", \"MARYLAND<br>Disease PERTUSSIS HEPATITIS A\", \"MASSACHUSETTS<br>Disease PERTUSSIS HEPATITIS A\", \"MICHIGAN<br>Disease PERTUSSIS HEPATITIS A\", \"MINNESOTA<br>Disease PERTUSSIS HEPATITIS A\", \"MISSISSIPPI<br>Disease PERTUSSIS HEPATITIS A\", \"MISSOURI<br>Disease PERTUSSIS HEPATITIS A\", \"MONTANA<br>Disease PERTUSSIS HEPATITIS A\", \"NEBRASKA<br>Disease PERTUSSIS HEPATITIS A\", \"NEVADA<br>Disease PERTUSSIS HEPATITIS A\", \"NEW HAMPSHIRE<br>Disease PERTUSSIS\", \"NEW JERSEY<br>Disease PERTUSSIS HEPATITIS A\", \"NEW MEXICO<br>Disease PERTUSSIS HEPATITIS A\", \"NEW YORK<br>Disease PERTUSSIS HEPATITIS A\", \"NORTH CAROLINA<br>Disease PERTUSSIS HEPATITIS A\", \"NORTH DAKOTA<br>Disease PERTUSSIS\", \"OHIO<br>Disease PERTUSSIS HEPATITIS A\", \"OKLAHOMA<br>Disease PERTUSSIS HEPATITIS A\", \"OREGON<br>Disease PERTUSSIS HEPATITIS A\", \"PENNSYLVANIA<br>Disease PERTUSSIS HEPATITIS A\", \"RHODE ISLAND<br>Disease PERTUSSIS HEPATITIS A\", \"SOUTH CAROLINA<br>Disease PERTUSSIS HEPATITIS A\", \"SOUTH DAKOTA<br>Disease PERTUSSIS HEPATITIS A\", \"TENNESSEE<br>Disease PERTUSSIS HEPATITIS A\", \"TEXAS<br>Disease PERTUSSIS HEPATITIS A\", \"UTAH<br>Disease PERTUSSIS HEPATITIS A\", \"VERMONT<br>Disease PERTUSSIS HEPATITIS A\", \"VIRGINIA<br>Disease PERTUSSIS HEPATITIS A\", \"WASHINGTON<br>Disease PERTUSSIS HEPATITIS A\", \"WEST VIRGINIA<br>Disease PERTUSSIS HEPATITIS A\", \"WISCONSIN<br>Disease PERTUSSIS HEPATITIS A\", \"WYOMING<br>Disease PERTUSSIS HEPATITIS A\"], \"zmin\": 0, \"locations\": [\"AL\", \"AK\", \"AZ\", \"AR\", \"CA\", \"CO\", \"CT\", \"DE\", \"DC\", \"FL\", \"GA\", \"HI\", \"ID\", \"IL\", \"IN\", \"IA\", \"KS\", \"KY\", \"LA\", \"ME\", \"MD\", \"MA\", \"MI\", \"MN\", \"MS\", \"MO\", \"MT\", \"NE\", \"NV\", \"NH\", \"NJ\", \"NM\", \"NY\", \"NC\", \"ND\", \"OH\", \"OK\", \"OR\", \"PA\", \"RI\", \"SC\", \"SD\", \"TN\", \"TX\", \"UT\", \"VT\", \"VA\", \"WA\", \"WV\", \"WI\", \"WY\"], \"colorbar\": {\"title\": \"Disease outbreak - cases in 2011\"}, \"type\": \"choropleth\", \"marker\": {\"line\": {\"color\": \"rgb(255,255,255)\", \"width\": 2}}, \"z\": [113.0, 28.0, 285.0, 50.0, 1321.0, 486.0, 59.0, 22.0, 5.0, 419.0, 114.0, 72.0, 150.0, 995.0, 299.0, 214.0, 139.0, 83.0, 18.0, 112.0, 110.0, 127.0, 281.0, 299.0, 46.0, 255.0, 120.0, 60.0, 34.0, 111.0, 223.0, 182.0, 1022.0, 189.0, 59.0, 790.0, 46.0, 186.0, 511.0, 20.0, 105.0, 30.0, 105.0, 613.0, 286.0, 47.0, 197.0, 759.0, 41.0, 356.0, 8.0], \"locationmode\": \"USA-states\"}], {\"geo\": {\"showlakes\": true, \"scope\": \"usa\", \"projection\": {\"type\": \"albers usa\"}, \"lakecolor\": \"rgb(255, 255, 255)\"}, \"title\": \"2011 US Diseases Cases Found by State<br>(Hover for breakdown)\"}, {\"linkText\": \"Export to plot.ly\", \"showLink\": true})});</script>"
      ]
     },
     "metadata": {},
     "output_type": "display_data"
    }
   ],
   "source": [
    "# get visualization for year 2011\n",
    "\n",
    "get_1yr_viz(2011)"
   ]
  },
  {
   "cell_type": "code",
   "execution_count": 219,
   "metadata": {},
   "outputs": [
    {
     "data": {
      "text/html": [
       "<script>requirejs.config({paths: { 'plotly': ['https://cdn.plot.ly/plotly-latest.min']},});if(!window.Plotly) {{require(['plotly'],function(plotly) {window.Plotly=plotly;});}}</script>"
      ],
      "text/vnd.plotly.v1+html": [
       "<script>requirejs.config({paths: { 'plotly': ['https://cdn.plot.ly/plotly-latest.min']},});if(!window.Plotly) {{require(['plotly'],function(plotly) {window.Plotly=plotly;});}}</script>"
      ]
     },
     "metadata": {},
     "output_type": "display_data"
    },
    {
     "data": {
      "application/vnd.plotly.v1+json": {
       "data": [
        {
         "autocolorscale": true,
         "colorbar": {
          "title": "Disease outbreak - cases in 1970"
         },
         "colorscale": [
          [
           0,
           "rgb(0, 0, 0)"
          ],
          [
           0.1,
           "rgb(0, 0, 0)"
          ],
          [
           0.1,
           "rgb(20, 20, 20)"
          ],
          [
           0.2,
           "rgb(20, 20, 20)"
          ],
          [
           0.2,
           "rgb(40, 40, 40)"
          ],
          [
           0.3,
           "rgb(40, 40, 40)"
          ],
          [
           0.3,
           "rgb(60, 60, 60)"
          ],
          [
           0.4,
           "rgb(60, 60, 60)"
          ],
          [
           0.4,
           "rgb(80, 80, 80)"
          ],
          [
           0.5,
           "rgb(80, 80, 80)"
          ],
          [
           0.5,
           "rgb(100, 100, 100)"
          ],
          [
           0.6,
           "rgb(100, 100, 100)"
          ],
          [
           0.6,
           "rgb(120, 120, 120)"
          ],
          [
           0.7,
           "rgb(120, 120, 120)"
          ],
          [
           0.7,
           "rgb(140, 140, 140)"
          ],
          [
           0.8,
           "rgb(140, 140, 140)"
          ],
          [
           0.8,
           "rgb(160, 160, 160)"
          ],
          [
           0.9,
           "rgb(160, 160, 160)"
          ],
          [
           0.9,
           "rgb(180, 180, 180)"
          ],
          [
           1,
           "rgb(180, 180, 180)"
          ]
         ],
         "locationmode": "USA-states",
         "locations": [
          "AL",
          "AK",
          "AZ",
          "AR",
          "CA",
          "CO",
          "CT",
          "DE",
          "DC",
          "FL",
          "GA",
          "HI",
          "ID",
          "IL",
          "IN",
          "IA",
          "KS",
          "KY",
          "LA",
          "ME",
          "MD",
          "MA",
          "MI",
          "MN",
          "MS",
          "MO",
          "MT",
          "NE",
          "NV",
          "NH",
          "NJ",
          "NM",
          "NY",
          "NC",
          "ND",
          "OH",
          "OK",
          "OR",
          "PA",
          "RI",
          "SC",
          "SD",
          "TN",
          "TX",
          "UT",
          "VT",
          "VA",
          "WA",
          "WV",
          "WI",
          "WY"
         ],
         "marker": {
          "line": {
           "color": "rgb(255,255,255)",
           "width": 2
          }
         },
         "text": [
          "ALABAMA<br>Disease MEASLES RUBELLA HEPATITIS A MUMPS",
          "ALASKA<br>Disease MEASLES RUBELLA HEPATITIS A MUMPS",
          "ARIZONA<br>Disease MEASLES RUBELLA HEPATITIS A MUMPS",
          "ARKANSAS<br>Disease MEASLES RUBELLA HEPATITIS A MUMPS",
          "CALIFORNIA<br>Disease MEASLES RUBELLA HEPATITIS A MUMPS",
          "COLORADO<br>Disease MEASLES RUBELLA HEPATITIS A MUMPS",
          "CONNECTICUT<br>Disease MEASLES RUBELLA HEPATITIS A MUMPS",
          "DELAWARE<br>Disease MEASLES RUBELLA HEPATITIS A MUMPS",
          "DISTRICT OF COLUMBIA<br>Disease MEASLES RUBELLA HEPATITIS A MUMPS",
          "FLORIDA<br>Disease MEASLES RUBELLA HEPATITIS A MUMPS",
          "GEORGIA<br>Disease MEASLES HEPATITIS A MUMPS",
          "HAWAII<br>Disease MEASLES RUBELLA HEPATITIS A MUMPS",
          "IDAHO<br>Disease MEASLES RUBELLA HEPATITIS A MUMPS",
          "ILLINOIS<br>Disease MEASLES RUBELLA HEPATITIS A MUMPS",
          "INDIANA<br>Disease MEASLES RUBELLA HEPATITIS A MUMPS",
          "IOWA<br>Disease MEASLES RUBELLA HEPATITIS A MUMPS",
          "KANSAS<br>Disease MEASLES RUBELLA HEPATITIS A MUMPS",
          "KENTUCKY<br>Disease MEASLES RUBELLA HEPATITIS A MUMPS",
          "LOUISIANA<br>Disease MEASLES RUBELLA HEPATITIS A MUMPS",
          "MAINE<br>Disease MEASLES RUBELLA HEPATITIS A MUMPS",
          "MARYLAND<br>Disease MEASLES RUBELLA HEPATITIS A MUMPS",
          "MASSACHUSETTS<br>Disease MEASLES RUBELLA HEPATITIS A MUMPS",
          "MICHIGAN<br>Disease MEASLES RUBELLA HEPATITIS A MUMPS",
          "MINNESOTA<br>Disease MEASLES RUBELLA HEPATITIS A MUMPS",
          "MISSISSIPPI<br>Disease MEASLES RUBELLA HEPATITIS A MUMPS",
          "MISSOURI<br>Disease MEASLES RUBELLA HEPATITIS A MUMPS",
          "MONTANA<br>Disease MEASLES RUBELLA HEPATITIS A MUMPS",
          "NEBRASKA<br>Disease MEASLES RUBELLA HEPATITIS A MUMPS",
          "NEVADA<br>Disease MEASLES HEPATITIS A",
          "NEW HAMPSHIRE<br>Disease MEASLES RUBELLA HEPATITIS A MUMPS",
          "NEW JERSEY<br>Disease MEASLES RUBELLA HEPATITIS A MUMPS",
          "NEW MEXICO<br>Disease MEASLES RUBELLA HEPATITIS A MUMPS",
          "NEW YORK<br>Disease MEASLES RUBELLA HEPATITIS A MUMPS",
          "NORTH CAROLINA<br>Disease MEASLES RUBELLA HEPATITIS A",
          "NORTH DAKOTA<br>Disease MEASLES RUBELLA HEPATITIS A MUMPS",
          "OHIO<br>Disease MEASLES RUBELLA HEPATITIS A MUMPS",
          "OKLAHOMA<br>Disease MEASLES RUBELLA HEPATITIS A MUMPS",
          "OREGON<br>Disease MEASLES RUBELLA HEPATITIS A MUMPS",
          "PENNSYLVANIA<br>Disease MEASLES RUBELLA HEPATITIS A MUMPS",
          "RHODE ISLAND<br>Disease MEASLES RUBELLA HEPATITIS A MUMPS",
          "SOUTH CAROLINA<br>Disease MEASLES RUBELLA HEPATITIS A MUMPS",
          "SOUTH DAKOTA<br>Disease MEASLES RUBELLA HEPATITIS A MUMPS",
          "TENNESSEE<br>Disease MEASLES RUBELLA HEPATITIS A MUMPS",
          "TEXAS<br>Disease MEASLES RUBELLA HEPATITIS A MUMPS",
          "UTAH<br>Disease MEASLES RUBELLA HEPATITIS A MUMPS",
          "VERMONT<br>Disease MEASLES RUBELLA HEPATITIS A MUMPS",
          "VIRGINIA<br>Disease MEASLES RUBELLA HEPATITIS A MUMPS",
          "WASHINGTON<br>Disease MEASLES RUBELLA HEPATITIS A MUMPS",
          "WEST VIRGINIA<br>Disease MEASLES RUBELLA HEPATITIS A MUMPS",
          "WISCONSIN<br>Disease MEASLES RUBELLA HEPATITIS A MUMPS",
          "WYOMING<br>Disease MEASLES RUBELLA HEPATITIS A MUMPS"
         ],
         "type": "choropleth",
         "z": [
          1672,
          594,
          3229,
          439,
          22849,
          3122,
          5246,
          815,
          671,
          9495,
          784,
          2143,
          578,
          8977,
          5337,
          6626,
          848,
          5477,
          1077,
          2456,
          3773,
          7780,
          16123,
          1045,
          537,
          2255,
          1426,
          1873,
          158,
          851,
          8032,
          1671,
          8800,
          2019,
          917,
          13360,
          4424,
          3834,
          10405,
          3206,
          2716,
          189,
          6645,
          25363,
          651,
          1180,
          6816,
          12761,
          4684,
          15504,
          274
         ],
         "zmax": 500,
         "zmin": 0
        }
       ],
       "layout": {
        "geo": {
         "lakecolor": "rgb(255, 255, 255)",
         "projection": {
          "type": "albers usa"
         },
         "scope": "usa",
         "showlakes": true
        },
        "title": "1970 US Diseases Cases Found by State<br>(Hover for breakdown)"
       }
      },
      "text/html": [
       "<div id=\"ab4540e7-da42-4886-a8dc-398dc816b0cf\" style=\"height: 525px; width: 100%;\" class=\"plotly-graph-div\"></div><script type=\"text/javascript\">require([\"plotly\"], function(Plotly) { window.PLOTLYENV=window.PLOTLYENV || {};window.PLOTLYENV.BASE_URL=\"https://plot.ly\";Plotly.newPlot(\"ab4540e7-da42-4886-a8dc-398dc816b0cf\", [{\"autocolorscale\": true, \"zmax\": 500, \"colorscale\": [[0, \"rgb(0, 0, 0)\"], [0.1, \"rgb(0, 0, 0)\"], [0.1, \"rgb(20, 20, 20)\"], [0.2, \"rgb(20, 20, 20)\"], [0.2, \"rgb(40, 40, 40)\"], [0.3, \"rgb(40, 40, 40)\"], [0.3, \"rgb(60, 60, 60)\"], [0.4, \"rgb(60, 60, 60)\"], [0.4, \"rgb(80, 80, 80)\"], [0.5, \"rgb(80, 80, 80)\"], [0.5, \"rgb(100, 100, 100)\"], [0.6, \"rgb(100, 100, 100)\"], [0.6, \"rgb(120, 120, 120)\"], [0.7, \"rgb(120, 120, 120)\"], [0.7, \"rgb(140, 140, 140)\"], [0.8, \"rgb(140, 140, 140)\"], [0.8, \"rgb(160, 160, 160)\"], [0.9, \"rgb(160, 160, 160)\"], [0.9, \"rgb(180, 180, 180)\"], [1.0, \"rgb(180, 180, 180)\"]], \"text\": [\"ALABAMA<br>Disease MEASLES RUBELLA HEPATITIS A MUMPS\", \"ALASKA<br>Disease MEASLES RUBELLA HEPATITIS A MUMPS\", \"ARIZONA<br>Disease MEASLES RUBELLA HEPATITIS A MUMPS\", \"ARKANSAS<br>Disease MEASLES RUBELLA HEPATITIS A MUMPS\", \"CALIFORNIA<br>Disease MEASLES RUBELLA HEPATITIS A MUMPS\", \"COLORADO<br>Disease MEASLES RUBELLA HEPATITIS A MUMPS\", \"CONNECTICUT<br>Disease MEASLES RUBELLA HEPATITIS A MUMPS\", \"DELAWARE<br>Disease MEASLES RUBELLA HEPATITIS A MUMPS\", \"DISTRICT OF COLUMBIA<br>Disease MEASLES RUBELLA HEPATITIS A MUMPS\", \"FLORIDA<br>Disease MEASLES RUBELLA HEPATITIS A MUMPS\", \"GEORGIA<br>Disease MEASLES HEPATITIS A MUMPS\", \"HAWAII<br>Disease MEASLES RUBELLA HEPATITIS A MUMPS\", \"IDAHO<br>Disease MEASLES RUBELLA HEPATITIS A MUMPS\", \"ILLINOIS<br>Disease MEASLES RUBELLA HEPATITIS A MUMPS\", \"INDIANA<br>Disease MEASLES RUBELLA HEPATITIS A MUMPS\", \"IOWA<br>Disease MEASLES RUBELLA HEPATITIS A MUMPS\", \"KANSAS<br>Disease MEASLES RUBELLA HEPATITIS A MUMPS\", \"KENTUCKY<br>Disease MEASLES RUBELLA HEPATITIS A MUMPS\", \"LOUISIANA<br>Disease MEASLES RUBELLA HEPATITIS A MUMPS\", \"MAINE<br>Disease MEASLES RUBELLA HEPATITIS A MUMPS\", \"MARYLAND<br>Disease MEASLES RUBELLA HEPATITIS A MUMPS\", \"MASSACHUSETTS<br>Disease MEASLES RUBELLA HEPATITIS A MUMPS\", \"MICHIGAN<br>Disease MEASLES RUBELLA HEPATITIS A MUMPS\", \"MINNESOTA<br>Disease MEASLES RUBELLA HEPATITIS A MUMPS\", \"MISSISSIPPI<br>Disease MEASLES RUBELLA HEPATITIS A MUMPS\", \"MISSOURI<br>Disease MEASLES RUBELLA HEPATITIS A MUMPS\", \"MONTANA<br>Disease MEASLES RUBELLA HEPATITIS A MUMPS\", \"NEBRASKA<br>Disease MEASLES RUBELLA HEPATITIS A MUMPS\", \"NEVADA<br>Disease MEASLES HEPATITIS A\", \"NEW HAMPSHIRE<br>Disease MEASLES RUBELLA HEPATITIS A MUMPS\", \"NEW JERSEY<br>Disease MEASLES RUBELLA HEPATITIS A MUMPS\", \"NEW MEXICO<br>Disease MEASLES RUBELLA HEPATITIS A MUMPS\", \"NEW YORK<br>Disease MEASLES RUBELLA HEPATITIS A MUMPS\", \"NORTH CAROLINA<br>Disease MEASLES RUBELLA HEPATITIS A\", \"NORTH DAKOTA<br>Disease MEASLES RUBELLA HEPATITIS A MUMPS\", \"OHIO<br>Disease MEASLES RUBELLA HEPATITIS A MUMPS\", \"OKLAHOMA<br>Disease MEASLES RUBELLA HEPATITIS A MUMPS\", \"OREGON<br>Disease MEASLES RUBELLA HEPATITIS A MUMPS\", \"PENNSYLVANIA<br>Disease MEASLES RUBELLA HEPATITIS A MUMPS\", \"RHODE ISLAND<br>Disease MEASLES RUBELLA HEPATITIS A MUMPS\", \"SOUTH CAROLINA<br>Disease MEASLES RUBELLA HEPATITIS A MUMPS\", \"SOUTH DAKOTA<br>Disease MEASLES RUBELLA HEPATITIS A MUMPS\", \"TENNESSEE<br>Disease MEASLES RUBELLA HEPATITIS A MUMPS\", \"TEXAS<br>Disease MEASLES RUBELLA HEPATITIS A MUMPS\", \"UTAH<br>Disease MEASLES RUBELLA HEPATITIS A MUMPS\", \"VERMONT<br>Disease MEASLES RUBELLA HEPATITIS A MUMPS\", \"VIRGINIA<br>Disease MEASLES RUBELLA HEPATITIS A MUMPS\", \"WASHINGTON<br>Disease MEASLES RUBELLA HEPATITIS A MUMPS\", \"WEST VIRGINIA<br>Disease MEASLES RUBELLA HEPATITIS A MUMPS\", \"WISCONSIN<br>Disease MEASLES RUBELLA HEPATITIS A MUMPS\", \"WYOMING<br>Disease MEASLES RUBELLA HEPATITIS A MUMPS\"], \"zmin\": 0, \"locations\": [\"AL\", \"AK\", \"AZ\", \"AR\", \"CA\", \"CO\", \"CT\", \"DE\", \"DC\", \"FL\", \"GA\", \"HI\", \"ID\", \"IL\", \"IN\", \"IA\", \"KS\", \"KY\", \"LA\", \"ME\", \"MD\", \"MA\", \"MI\", \"MN\", \"MS\", \"MO\", \"MT\", \"NE\", \"NV\", \"NH\", \"NJ\", \"NM\", \"NY\", \"NC\", \"ND\", \"OH\", \"OK\", \"OR\", \"PA\", \"RI\", \"SC\", \"SD\", \"TN\", \"TX\", \"UT\", \"VT\", \"VA\", \"WA\", \"WV\", \"WI\", \"WY\"], \"colorbar\": {\"title\": \"Disease outbreak - cases in 1970\"}, \"type\": \"choropleth\", \"marker\": {\"line\": {\"color\": \"rgb(255,255,255)\", \"width\": 2}}, \"z\": [1672.0, 594.0, 3229.0, 439.0, 22849.0, 3122.0, 5246.0, 815.0, 671.0, 9495.0, 784.0, 2143.0, 578.0, 8977.0, 5337.0, 6626.0, 848.0, 5477.0, 1077.0, 2456.0, 3773.0, 7780.0, 16123.0, 1045.0, 537.0, 2255.0, 1426.0, 1873.0, 158.0, 851.0, 8032.0, 1671.0, 8800.0, 2019.0, 917.0, 13360.0, 4424.0, 3834.0, 10405.0, 3206.0, 2716.0, 189.0, 6645.0, 25363.0, 651.0, 1180.0, 6816.0, 12761.0, 4684.0, 15504.0, 274.0], \"locationmode\": \"USA-states\"}], {\"geo\": {\"showlakes\": true, \"scope\": \"usa\", \"projection\": {\"type\": \"albers usa\"}, \"lakecolor\": \"rgb(255, 255, 255)\"}, \"title\": \"1970 US Diseases Cases Found by State<br>(Hover for breakdown)\"}, {\"linkText\": \"Export to plot.ly\", \"showLink\": true})});</script>"
      ],
      "text/vnd.plotly.v1+html": [
       "<div id=\"ab4540e7-da42-4886-a8dc-398dc816b0cf\" style=\"height: 525px; width: 100%;\" class=\"plotly-graph-div\"></div><script type=\"text/javascript\">require([\"plotly\"], function(Plotly) { window.PLOTLYENV=window.PLOTLYENV || {};window.PLOTLYENV.BASE_URL=\"https://plot.ly\";Plotly.newPlot(\"ab4540e7-da42-4886-a8dc-398dc816b0cf\", [{\"autocolorscale\": true, \"zmax\": 500, \"colorscale\": [[0, \"rgb(0, 0, 0)\"], [0.1, \"rgb(0, 0, 0)\"], [0.1, \"rgb(20, 20, 20)\"], [0.2, \"rgb(20, 20, 20)\"], [0.2, \"rgb(40, 40, 40)\"], [0.3, \"rgb(40, 40, 40)\"], [0.3, \"rgb(60, 60, 60)\"], [0.4, \"rgb(60, 60, 60)\"], [0.4, \"rgb(80, 80, 80)\"], [0.5, \"rgb(80, 80, 80)\"], [0.5, \"rgb(100, 100, 100)\"], [0.6, \"rgb(100, 100, 100)\"], [0.6, \"rgb(120, 120, 120)\"], [0.7, \"rgb(120, 120, 120)\"], [0.7, \"rgb(140, 140, 140)\"], [0.8, \"rgb(140, 140, 140)\"], [0.8, \"rgb(160, 160, 160)\"], [0.9, \"rgb(160, 160, 160)\"], [0.9, \"rgb(180, 180, 180)\"], [1.0, \"rgb(180, 180, 180)\"]], \"text\": [\"ALABAMA<br>Disease MEASLES RUBELLA HEPATITIS A MUMPS\", \"ALASKA<br>Disease MEASLES RUBELLA HEPATITIS A MUMPS\", \"ARIZONA<br>Disease MEASLES RUBELLA HEPATITIS A MUMPS\", \"ARKANSAS<br>Disease MEASLES RUBELLA HEPATITIS A MUMPS\", \"CALIFORNIA<br>Disease MEASLES RUBELLA HEPATITIS A MUMPS\", \"COLORADO<br>Disease MEASLES RUBELLA HEPATITIS A MUMPS\", \"CONNECTICUT<br>Disease MEASLES RUBELLA HEPATITIS A MUMPS\", \"DELAWARE<br>Disease MEASLES RUBELLA HEPATITIS A MUMPS\", \"DISTRICT OF COLUMBIA<br>Disease MEASLES RUBELLA HEPATITIS A MUMPS\", \"FLORIDA<br>Disease MEASLES RUBELLA HEPATITIS A MUMPS\", \"GEORGIA<br>Disease MEASLES HEPATITIS A MUMPS\", \"HAWAII<br>Disease MEASLES RUBELLA HEPATITIS A MUMPS\", \"IDAHO<br>Disease MEASLES RUBELLA HEPATITIS A MUMPS\", \"ILLINOIS<br>Disease MEASLES RUBELLA HEPATITIS A MUMPS\", \"INDIANA<br>Disease MEASLES RUBELLA HEPATITIS A MUMPS\", \"IOWA<br>Disease MEASLES RUBELLA HEPATITIS A MUMPS\", \"KANSAS<br>Disease MEASLES RUBELLA HEPATITIS A MUMPS\", \"KENTUCKY<br>Disease MEASLES RUBELLA HEPATITIS A MUMPS\", \"LOUISIANA<br>Disease MEASLES RUBELLA HEPATITIS A MUMPS\", \"MAINE<br>Disease MEASLES RUBELLA HEPATITIS A MUMPS\", \"MARYLAND<br>Disease MEASLES RUBELLA HEPATITIS A MUMPS\", \"MASSACHUSETTS<br>Disease MEASLES RUBELLA HEPATITIS A MUMPS\", \"MICHIGAN<br>Disease MEASLES RUBELLA HEPATITIS A MUMPS\", \"MINNESOTA<br>Disease MEASLES RUBELLA HEPATITIS A MUMPS\", \"MISSISSIPPI<br>Disease MEASLES RUBELLA HEPATITIS A MUMPS\", \"MISSOURI<br>Disease MEASLES RUBELLA HEPATITIS A MUMPS\", \"MONTANA<br>Disease MEASLES RUBELLA HEPATITIS A MUMPS\", \"NEBRASKA<br>Disease MEASLES RUBELLA HEPATITIS A MUMPS\", \"NEVADA<br>Disease MEASLES HEPATITIS A\", \"NEW HAMPSHIRE<br>Disease MEASLES RUBELLA HEPATITIS A MUMPS\", \"NEW JERSEY<br>Disease MEASLES RUBELLA HEPATITIS A MUMPS\", \"NEW MEXICO<br>Disease MEASLES RUBELLA HEPATITIS A MUMPS\", \"NEW YORK<br>Disease MEASLES RUBELLA HEPATITIS A MUMPS\", \"NORTH CAROLINA<br>Disease MEASLES RUBELLA HEPATITIS A\", \"NORTH DAKOTA<br>Disease MEASLES RUBELLA HEPATITIS A MUMPS\", \"OHIO<br>Disease MEASLES RUBELLA HEPATITIS A MUMPS\", \"OKLAHOMA<br>Disease MEASLES RUBELLA HEPATITIS A MUMPS\", \"OREGON<br>Disease MEASLES RUBELLA HEPATITIS A MUMPS\", \"PENNSYLVANIA<br>Disease MEASLES RUBELLA HEPATITIS A MUMPS\", \"RHODE ISLAND<br>Disease MEASLES RUBELLA HEPATITIS A MUMPS\", \"SOUTH CAROLINA<br>Disease MEASLES RUBELLA HEPATITIS A MUMPS\", \"SOUTH DAKOTA<br>Disease MEASLES RUBELLA HEPATITIS A MUMPS\", \"TENNESSEE<br>Disease MEASLES RUBELLA HEPATITIS A MUMPS\", \"TEXAS<br>Disease MEASLES RUBELLA HEPATITIS A MUMPS\", \"UTAH<br>Disease MEASLES RUBELLA HEPATITIS A MUMPS\", \"VERMONT<br>Disease MEASLES RUBELLA HEPATITIS A MUMPS\", \"VIRGINIA<br>Disease MEASLES RUBELLA HEPATITIS A MUMPS\", \"WASHINGTON<br>Disease MEASLES RUBELLA HEPATITIS A MUMPS\", \"WEST VIRGINIA<br>Disease MEASLES RUBELLA HEPATITIS A MUMPS\", \"WISCONSIN<br>Disease MEASLES RUBELLA HEPATITIS A MUMPS\", \"WYOMING<br>Disease MEASLES RUBELLA HEPATITIS A MUMPS\"], \"zmin\": 0, \"locations\": [\"AL\", \"AK\", \"AZ\", \"AR\", \"CA\", \"CO\", \"CT\", \"DE\", \"DC\", \"FL\", \"GA\", \"HI\", \"ID\", \"IL\", \"IN\", \"IA\", \"KS\", \"KY\", \"LA\", \"ME\", \"MD\", \"MA\", \"MI\", \"MN\", \"MS\", \"MO\", \"MT\", \"NE\", \"NV\", \"NH\", \"NJ\", \"NM\", \"NY\", \"NC\", \"ND\", \"OH\", \"OK\", \"OR\", \"PA\", \"RI\", \"SC\", \"SD\", \"TN\", \"TX\", \"UT\", \"VT\", \"VA\", \"WA\", \"WV\", \"WI\", \"WY\"], \"colorbar\": {\"title\": \"Disease outbreak - cases in 1970\"}, \"type\": \"choropleth\", \"marker\": {\"line\": {\"color\": \"rgb(255,255,255)\", \"width\": 2}}, \"z\": [1672.0, 594.0, 3229.0, 439.0, 22849.0, 3122.0, 5246.0, 815.0, 671.0, 9495.0, 784.0, 2143.0, 578.0, 8977.0, 5337.0, 6626.0, 848.0, 5477.0, 1077.0, 2456.0, 3773.0, 7780.0, 16123.0, 1045.0, 537.0, 2255.0, 1426.0, 1873.0, 158.0, 851.0, 8032.0, 1671.0, 8800.0, 2019.0, 917.0, 13360.0, 4424.0, 3834.0, 10405.0, 3206.0, 2716.0, 189.0, 6645.0, 25363.0, 651.0, 1180.0, 6816.0, 12761.0, 4684.0, 15504.0, 274.0], \"locationmode\": \"USA-states\"}], {\"geo\": {\"showlakes\": true, \"scope\": \"usa\", \"projection\": {\"type\": \"albers usa\"}, \"lakecolor\": \"rgb(255, 255, 255)\"}, \"title\": \"1970 US Diseases Cases Found by State<br>(Hover for breakdown)\"}, {\"linkText\": \"Export to plot.ly\", \"showLink\": true})});</script>"
      ]
     },
     "metadata": {},
     "output_type": "display_data"
    }
   ],
   "source": [
    "# get visualization for year 1970 \n",
    "get_1yr_viz(1970)"
   ]
  }
 ],
 "metadata": {
  "kernelspec": {
   "display_name": "Python 2",
   "language": "python",
   "name": "python2"
  },
  "language_info": {
   "codemirror_mode": {
    "name": "ipython",
    "version": 2
   },
   "file_extension": ".py",
   "mimetype": "text/x-python",
   "name": "python",
   "nbconvert_exporter": "python",
   "pygments_lexer": "ipython2",
   "version": "2.7.13"
  }
 },
 "nbformat": 4,
 "nbformat_minor": 2
}
